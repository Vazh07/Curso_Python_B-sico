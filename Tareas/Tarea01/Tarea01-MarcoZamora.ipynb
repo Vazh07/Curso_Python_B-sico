{
 "cells": [
  {
   "cell_type": "code",
   "execution_count": 44,
   "metadata": {},
   "outputs": [],
   "source": [
    "### Ejercicios vistos en clase ###"
   ]
  },
  {
   "cell_type": "code",
   "execution_count": 45,
   "metadata": {},
   "outputs": [],
   "source": [
    "#python line\n",
    "var = 6"
   ]
  },
  {
   "cell_type": "code",
   "execution_count": 46,
   "metadata": {
    "tags": []
   },
   "outputs": [
    {
     "output_type": "stream",
     "name": "stdout",
     "text": "ejemplo de linea multiple\n"
    }
   ],
   "source": [
    "#línea multiple\n",
    "print (\"ejemplo de \\\n",
    "linea multiple\")"
   ]
  },
  {
   "cell_type": "code",
   "execution_count": 47,
   "metadata": {
    "tags": []
   },
   "outputs": [
    {
     "output_type": "stream",
     "name": "stdout",
     "text": "['1', '2', '3', '4', '5']\n"
    }
   ],
   "source": [
    "#linea multiple\n",
    "numeros = ['1','2','3',\n",
    "          '4','5']\n",
    "print(numeros)"
   ]
  },
  {
   "cell_type": "code",
   "execution_count": 48,
   "metadata": {
    "tags": []
   },
   "outputs": [
    {
     "output_type": "stream",
     "name": "stdout",
     "text": "1\n2\n"
    }
   ],
   "source": [
    "#multiples estatutos\n",
    "num1 = 1 ; num2 = 2;\n",
    "print(num1);print(num2)"
   ]
  },
  {
   "cell_type": "code",
   "execution_count": 49,
   "metadata": {},
   "outputs": [
    {
     "output_type": "error",
     "ename": "IndentationError",
     "evalue": "expected an indented block (<ipython-input-49-9158a53c6413>, line 4)",
     "traceback": [
      "\u001b[1;36m  File \u001b[1;32m\"<ipython-input-49-9158a53c6413>\"\u001b[1;36m, line \u001b[1;32m4\u001b[0m\n\u001b[1;33m    print(\"No hay identación aquí\")\u001b[0m\n\u001b[1;37m        ^\u001b[0m\n\u001b[1;31mIndentationError\u001b[0m\u001b[1;31m:\u001b[0m expected an indented block\n"
     ]
    }
   ],
   "source": [
    "#Identación\n",
    "a=1\n",
    "if a>0 :\n",
    "print(\"No hay identación aquí\")"
   ]
  },
  {
   "cell_type": "code",
   "execution_count": 50,
   "metadata": {
    "tags": []
   },
   "outputs": [
    {
     "output_type": "stream",
     "name": "stdout",
     "text": "Aquí si hay identación\n"
    }
   ],
   "source": [
    "#Identación\n",
    "a=1\n",
    "if a>0 :\n",
    "    print(\"Aquí si hay identación\")"
   ]
  },
  {
   "cell_type": "code",
   "execution_count": 51,
   "metadata": {
    "tags": []
   },
   "outputs": [
    {
     "output_type": "stream",
     "name": "stdout",
     "text": "Hola Mundo!\n"
    }
   ],
   "source": [
    "# Imprime  Hola Mundo!\n",
    "print('Hola Mundo!')"
   ]
  },
  {
   "cell_type": "code",
   "execution_count": 52,
   "metadata": {
    "tags": []
   },
   "outputs": [
    {
     "output_type": "stream",
     "name": "stdout",
     "text": "La suma de  1  y  6 es  7\n"
    }
   ],
   "source": [
    "# Esta rutina suma 2 números\n",
    "\n",
    "num1 = 1\n",
    "num2 = 6\n",
    "\n",
    "# Suma\n",
    "sum = (num1) + (num2)\n",
    "\n",
    "# Despliega el resultado\n",
    "print('La suma de  {0}  y  {1} es  {2}'.format(num1, num2, sum))"
   ]
  },
  {
   "cell_type": "code",
   "execution_count": 53,
   "metadata": {
    "tags": []
   },
   "outputs": [
    {
     "output_type": "stream",
     "name": "stdout",
     "text": "False\nTrue\n"
    }
   ],
   "source": [
    "def isUniqueChars(st):\n",
    "    # El tamaño del string no es mayor a \n",
    "    # 256.\n",
    "    if len(st) > 256:\n",
    "        return False\n",
    "\n",
    "    # Inicializa  las ocurrencias de todos los caracteres\n",
    "    \n",
    "    char_set = [False] * 128 # recuerde que la tabla ASCII cuenta con 128 caracteres\n",
    "\n",
    "    # Para cada caracter verifica is existe en char_set\n",
    "    for i in range(0, len(st)):\n",
    "\n",
    "        # Encuentra el valor  ASCII  y revisa si este existe en el set de datos \n",
    "        val = ord(st[i])\n",
    "        if char_set[val]:\n",
    "            return False\n",
    "\n",
    "        char_set[val] = True\n",
    "\n",
    "    return True\n",
    "\n",
    "\n",
    "# código para prueba\n",
    "st = \"abcc\"\n",
    "print(isUniqueChars(st))\n",
    "st =\"abcd\"\n",
    "print(isUniqueChars(st))"
   ]
  },
  {
   "cell_type": "code",
   "execution_count": 54,
   "metadata": {},
   "outputs": [],
   "source": [
    "### Ejercicios Extra ###"
   ]
  },
  {
   "cell_type": "code",
   "execution_count": 55,
   "metadata": {
    "tags": []
   },
   "outputs": [
    {
     "output_type": "stream",
     "name": "stdout",
     "text": "4\n"
    }
   ],
   "source": [
    "y=4 \n",
    "print(y) #'y' tiene el valor de 4"
   ]
  },
  {
   "cell_type": "code",
   "execution_count": 56,
   "metadata": {},
   "outputs": [],
   "source": [
    "x=1 #'x' es un numero \n",
    "x='Hello' #'x' es un string\n",
    "x=[1,2,3] #'x' es un array"
   ]
  },
  {
   "cell_type": "code",
   "execution_count": 57,
   "metadata": {
    "tags": []
   },
   "outputs": [
    {
     "output_type": "stream",
     "name": "stdout",
     "text": "[1, 2, 3]\n"
    }
   ],
   "source": [
    "print(x) #'x' va a imprimir el ultimo valor que tenga asignado"
   ]
  },
  {
   "cell_type": "code",
   "execution_count": 58,
   "metadata": {},
   "outputs": [],
   "source": [
    "x=[1,2,3] #se sobreescribe el valor de 'x'\n",
    "y=x #ahora 'y' tiene el mismo valor que 'x'"
   ]
  },
  {
   "cell_type": "code",
   "execution_count": 59,
   "metadata": {
    "tags": []
   },
   "outputs": [
    {
     "output_type": "stream",
     "name": "stdout",
     "text": "[1, 2, 3]\n"
    }
   ],
   "source": [
    "print(y) #'y' ahora es el mismo array que 'x'"
   ]
  },
  {
   "cell_type": "code",
   "execution_count": 60,
   "metadata": {},
   "outputs": [],
   "source": [
    "x.append(4) #append agrega el numero cuatro al final del array en 'x'"
   ]
  },
  {
   "cell_type": "code",
   "execution_count": 61,
   "metadata": {
    "tags": []
   },
   "outputs": [
    {
     "output_type": "stream",
     "name": "stdout",
     "text": "[1, 2, 3, 4]\n"
    }
   ],
   "source": [
    "print(x) #'x' ahora tiene un 4 al final "
   ]
  },
  {
   "cell_type": "code",
   "execution_count": 62,
   "metadata": {
    "tags": []
   },
   "outputs": [
    {
     "output_type": "stream",
     "name": "stdout",
     "text": "[1, 2, 3, 4]\n"
    }
   ],
   "source": [
    "print(y) #al parecer 'y' no tiene los valores de 'x', sino que 'y' esta guardadno una referencia al array que 'x' contiene"
   ]
  },
  {
   "cell_type": "code",
   "execution_count": 63,
   "metadata": {
    "tags": []
   },
   "outputs": [
    {
     "output_type": "stream",
     "name": "stdout",
     "text": "[1, 2, 3, 4]\n"
    }
   ],
   "source": [
    "x = 'lo que sea' \n",
    "print(y) #al parecer 'x' puede cambiar de tipo lo cual deja al array botado en el espacio de memoria que es donde 'y' realmente esta apuntando"
   ]
  },
  {
   "cell_type": "code",
   "execution_count": 64,
   "metadata": {
    "tags": []
   },
   "outputs": [
    {
     "output_type": "stream",
     "name": "stdout",
     "text": "y = 10\n"
    }
   ],
   "source": [
    "x=10 #'x' es un entero\n",
    "y=x #'y' es igual al valor de 'x'\n",
    "x += 5  # suma  5 a el valor de x, y lo asigna a este nuevamente\n",
    "print(\"y =\",y) #al parecer 'y' no aumenta lo que 'x', asumiria que esto se debe a que un entero se considera un tipo de dato primitivo 'y' no utiliza memoria dinamica"
   ]
  },
  {
   "cell_type": "code",
   "execution_count": 65,
   "metadata": {
    "tags": []
   },
   "outputs": [
    {
     "output_type": "stream",
     "name": "stdout",
     "text": "15\n"
    }
   ],
   "source": [
    "print(x) #'x' sí aumentó"
   ]
  }
 ],
 "metadata": {
  "kernelspec": {
   "display_name": "Python 3",
   "language": "python",
   "name": "python3"
  },
  "language_info": {
   "codemirror_mode": {
    "name": "ipython",
    "version": 3
   },
   "file_extension": ".py",
   "mimetype": "text/x-python",
   "name": "python",
   "nbconvert_exporter": "python",
   "pygments_lexer": "ipython3",
   "version": "3.7.7-final"
  }
 },
 "nbformat": 4,
 "nbformat_minor": 2
}