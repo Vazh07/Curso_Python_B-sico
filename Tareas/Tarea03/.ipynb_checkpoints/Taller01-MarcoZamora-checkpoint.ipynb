{
 "cells": [
  {
   "cell_type": "markdown",
   "metadata": {},
   "source": [
    "# Ejercicios de Python "
   ]
  },
  {
   "cell_type": "markdown",
   "metadata": {},
   "source": [
    "# ----- Tipos de datos"
   ]
  },
  {
   "cell_type": "markdown",
   "metadata": {},
   "source": [
    "### Escribir un programa que muestre por pantalla la frase \"¡Hola amigos! soy\" , e incluya su nombre  "
   ]
  },
  {
   "cell_type": "code",
   "execution_count": 1,
   "metadata": {},
   "outputs": [
    {
     "name": "stdout",
     "output_type": "stream",
     "text": [
      "Digite su nombre:Marco\n",
      "¡Hola amigos! soy Marco\n"
     ]
    }
   ],
   "source": [
    "nombre=input('Digite su nombre:')\n",
    "print('¡Hola amigos! soy',nombre)"
   ]
  },
  {
   "cell_type": "markdown",
   "metadata": {},
   "source": [
    "### Escribir un programa que pregunte el nombre  en la consola y después que  lo introduzca muestre por pantalla la cadena ¡Hola [nombre]!, donde [nombre] es el nombre que el usuario ha  introducido."
   ]
  },
  {
   "cell_type": "code",
   "execution_count": 3,
   "metadata": {},
   "outputs": [
    {
     "name": "stdout",
     "output_type": "stream",
     "text": [
      "Digite su nombre:Marco\n",
      "¡Hola Marco!\n"
     ]
    }
   ],
   "source": [
    "nombre=input('Digite su nombre:')\n",
    "print('¡Hola '+nombre+'!')"
   ]
  },
  {
   "cell_type": "markdown",
   "metadata": {},
   "source": [
    "### Escribir un programa que pregunte el nombre en  consola y un número entero e imprima por pantalla en líneas distintas el nombre del usuario tantas veces como el número introducido."
   ]
  },
  {
   "cell_type": "code",
   "execution_count": 5,
   "metadata": {},
   "outputs": [
    {
     "name": "stdout",
     "output_type": "stream",
     "text": [
      "Digite su nombre:Marco \n",
      "Digite un numero:4\n",
      "Marco \n",
      "Marco \n",
      "Marco \n",
      "Marco \n"
     ]
    }
   ],
   "source": [
    "nombre=input('Digite su nombre:')\n",
    "numero=int(input('Digite un numero:'))\n",
    "for i in range(numero):\n",
    "    print(nombre)"
   ]
  },
  {
   "cell_type": "markdown",
   "metadata": {},
   "source": [
    "### Escribir un programa que pregunte el nombre de un animal  y después de que que se introduzca muestre por pantalla el nombre en mayúsculas y el número de caracteres que contiene en líneas distintas."
   ]
  },
  {
   "cell_type": "code",
   "execution_count": null,
   "metadata": {},
   "outputs": [],
   "source": []
  },
  {
   "cell_type": "markdown",
   "metadata": {},
   "source": [
    "### Escribe un programa que pregunte  por el número de horas trabajadas y el costo por hora. Después debe mostrar por pantalla la paga que le corresponde."
   ]
  },
  {
   "cell_type": "code",
   "execution_count": null,
   "metadata": {},
   "outputs": [],
   "source": []
  },
  {
   "cell_type": "markdown",
   "metadata": {},
   "source": [
    "### Escribir un programa que pida al usuario dos números enteros y muestre por pantalla la {n} entre {m} da un cociente {c} y un resto {r} donde {n} y {m} son los números introducidos , y {c} y {r} son el cociente y el resto de la división entera respectivamente."
   ]
  },
  {
   "cell_type": "code",
   "execution_count": null,
   "metadata": {},
   "outputs": [],
   "source": []
  },
  {
   "cell_type": "markdown",
   "metadata": {},
   "source": [
    "### Usted abrio una nueva cuenta de ahorros que le  ofrece el 4% de interés al año. Estos ahorros debido a intereses, que no se cobran hasta finales de año y  se le  añaden al balance final de tu cuenta de ahorros. Además asuma que usted no saca el dinero y lo continua invirtiendo. Escribir un programa que comience leyendo la cantidad de dinero depositada en la cuenta de ahorros. Después el programa debe calcular y mostrar por pantalla la cantidad de ahorros tras el primer, segundo y tercer años. Redondear cada cantidad a dos decimales."
   ]
  },
  {
   "cell_type": "code",
   "execution_count": null,
   "metadata": {},
   "outputs": [],
   "source": []
  },
  {
   "cell_type": "markdown",
   "metadata": {},
   "source": [
    "### Un abastecedor vende rosquillas a 500 col  la bolsas  . Las rosquillas  que no son  del  día tiene un descuento del 50%. Escribe un programa que comience leyendo el número de bolsas  vendidas que no son del día. Después tu programa debe mostrar el precio habitual de una bolsa del producto, y  el descuento que se le hace por no ser fresca y el coste final total."
   ]
  },
  {
   "cell_type": "code",
   "execution_count": null,
   "metadata": {},
   "outputs": [],
   "source": []
  },
  {
   "cell_type": "markdown",
   "metadata": {},
   "source": [
    "# ------ Condicionales"
   ]
  },
  {
   "cell_type": "markdown",
   "metadata": {},
   "source": [
    "### Escribir un programa que pregunte al usuario su edad y muestre por pantalla si es mayor de edad o no."
   ]
  },
  {
   "cell_type": "code",
   "execution_count": 15,
   "metadata": {},
   "outputs": [
    {
     "name": "stdout",
     "output_type": "stream",
     "text": [
      "Digite su edad:3\n",
      "Usted es menor de edad\n"
     ]
    }
   ],
   "source": [
    "edad=float(input('Digite su edad:'))\n",
    "print('Usted es mayor de edad') if edad>=18 else print('Usted es menor de edad')"
   ]
  },
  {
   "cell_type": "markdown",
   "metadata": {},
   "source": [
    "###  Escribir un programa que pregunte por una  contraseña , pregunte nuevamente por la confirmación de la contraseña e imprima por pantalla si la contraseña introducida es la misma en ambos momentos. La compración no debe tener en cuenta mayúsculas y minúsculas."
   ]
  },
  {
   "cell_type": "code",
   "execution_count": 1,
   "metadata": {},
   "outputs": [
    {
     "name": "stdout",
     "output_type": "stream",
     "text": [
      "Digite una contraseña:abc\n",
      "Digite de nuevo su contraseña:Abc\n",
      "Su clave coincide\n"
     ]
    }
   ],
   "source": [
    "clave=str(input('Digite una contraseña:'))\n",
    "confirmaClave=str(input('Digite de nuevo su contraseña:'))\n",
    "print('Su clave coincide') if clave.lower()==confirmaClave.lower() else print('Su clave no coincide')"
   ]
  },
  {
   "cell_type": "markdown",
   "metadata": {},
   "source": [
    "###  Los alumnos de un curso se han dividido en dos grupos A y B de acuerdo al sexo y el nombre. El grupo A esta formado por las mujeres con un nombre anterior a la M y los hombres con un nombre posterior a la N y el grupo B por el resto. Escribir un programa que pregunte al usuario su nombre y sexo, y muestre por pantalla el grupo que le corresponde."
   ]
  },
  {
   "cell_type": "code",
   "execution_count": 4,
   "metadata": {},
   "outputs": [
    {
     "name": "stdout",
     "output_type": "stream",
     "text": [
      "Digite su nombre:Pedro \n",
      "Digite su sexo:hombre\n",
      "Pedro  pertenece al grupo B\n"
     ]
    }
   ],
   "source": [
    "nombre=input('Digite su nombre:')\n",
    "sexo=input('Digite su sexo:')\n",
    "if(ord(nombre[0].lower())<ord('n') and sexo.lower()=='mujer'):\n",
    "    print(nombre,'pertenece al grupo A')\n",
    "else:\n",
    "    print(nombre,'pertenece al grupo B')"
   ]
  },
  {
   "cell_type": "markdown",
   "metadata": {},
   "source": [
    "###  En una  empresa, los  empleados son evaluados al final de cada año y se les da un bono por su desempeño. Los puntos que pueden obtener en la evaluación comienzan en 0.0 y pueden ir aumentando, traduciéndose en mejores beneficios. Los puntos que pueden conseguir los empleados pueden ser 0.0 (Malo), 0.4 (Bueno). o 0.6(Excelente), pero no valores intermedios entre las cifras mencionadas. . La cantidad de dinero conseguida en cada nivel es de 1000 dólares  multiplicada por la puntuación del nivel.\n",
    "### Escribir un programa que lea la puntuación del usuario e indique su nivel de rendimiento, así como la cantidad de dinero que recibirá el usuario."
   ]
  },
  {
   "cell_type": "code",
   "execution_count": null,
   "metadata": {},
   "outputs": [],
   "source": []
  },
  {
   "cell_type": "markdown",
   "metadata": {},
   "source": [
    "# ------ Ciclos"
   ]
  },
  {
   "cell_type": "markdown",
   "metadata": {},
   "source": [
    "### Escribir un programa que pregunte la  edad y muestre por pantalla todos los años que ha cumplido (desde 1 hasta su edad)."
   ]
  },
  {
   "cell_type": "code",
   "execution_count": null,
   "metadata": {},
   "outputs": [],
   "source": []
  },
  {
   "cell_type": "markdown",
   "metadata": {},
   "source": [
    "###  Escribir un programa que pida  un número entero positivo y muestre por pantalla todos los números impares desde 1 hasta ese número separados por comas."
   ]
  },
  {
   "cell_type": "code",
   "execution_count": null,
   "metadata": {},
   "outputs": [],
   "source": []
  },
  {
   "cell_type": "markdown",
   "metadata": {},
   "source": [
    "### Escribir un programa que pida  un número entero positivo y muestre por pantalla la cuenta atrás desde ese número hasta cero separados por comas."
   ]
  },
  {
   "cell_type": "code",
   "execution_count": null,
   "metadata": {},
   "outputs": [],
   "source": []
  },
  {
   "cell_type": "markdown",
   "metadata": {},
   "source": [
    "###  Escribir un programa que muestre por pantalla la tabla de multiplicar del 1 al 10."
   ]
  },
  {
   "cell_type": "code",
   "execution_count": null,
   "metadata": {},
   "outputs": [],
   "source": []
  },
  {
   "cell_type": "markdown",
   "metadata": {},
   "source": [
    "### Escribir un programa que pida un número entero y muestre por pantalla un triángulo rectángulo , de altura el número introducido. En donde la altura son números impares y el ancho son los números en orden inverso iniciando con el número impar . Por ejemplo así \n",
    "### 1 \n",
    "### 3 2 1 \n",
    "### 5 4 3 2 1 \n",
    "### 7 6 5 4 3 2 1 \n",
    "### 9 8 7 6 5 4 3 2 1 \n"
   ]
  },
  {
   "cell_type": "code",
   "execution_count": null,
   "metadata": {},
   "outputs": [],
   "source": []
  },
  {
   "cell_type": "markdown",
   "metadata": {},
   "source": [
    "### Escribir un programa que almacene la cadena de caracteres contraseña en una variable,luego  pregunte por la contraseña hasta que introduzca la contraseña correcta."
   ]
  },
  {
   "cell_type": "code",
   "execution_count": null,
   "metadata": {},
   "outputs": [],
   "source": []
  },
  {
   "cell_type": "markdown",
   "metadata": {},
   "source": [
    "###  Escribir un programa en el que se pregunte  por una frase y una letra, y muestre por pantalla el número de veces que aparece la letra en la frase."
   ]
  },
  {
   "cell_type": "code",
   "execution_count": null,
   "metadata": {},
   "outputs": [],
   "source": []
  },
  {
   "cell_type": "markdown",
   "metadata": {},
   "source": [
    "###  Escribir un programa que pida  un número entero positivo mayor que 2 y muestre por pantalla si es un número primo o no."
   ]
  },
  {
   "cell_type": "code",
   "execution_count": null,
   "metadata": {},
   "outputs": [],
   "source": []
  },
  {
   "cell_type": "markdown",
   "metadata": {},
   "source": [
    "###  La sucesión de Fibonacci, en ocasiones también conocida como secuencia de Fibonacci o incorrectamente como serie de Fibonacci, es en sí una sucesión matemática infinita. Consta de una serie de números naturales que se suman de a 2, a partir de 0 y 1. Básicamente, la sucesión de Fibonacci se realiza sumando siempre los últimos 2 números (Todos los números presentes en la sucesión se llaman números de Fibonacci)\n",
    "### Escriba un programa que pida un número entero positivo , con este genere una sucesión de Fibonacci de  ese número"
   ]
  },
  {
   "cell_type": "code",
   "execution_count": null,
   "metadata": {},
   "outputs": [],
   "source": [
    "\n"
   ]
  },
  {
   "cell_type": "markdown",
   "metadata": {},
   "source": [
    "# ------ Listas , Tuplas , Diccionarios"
   ]
  },
  {
   "cell_type": "markdown",
   "metadata": {},
   "source": [
    "### Escribir un programa que almacene las asignaturas de un curso (por ejemplo Matemáticas, Física, Química, Historia y Lengua) en una lista y la muestre por pantalla."
   ]
  },
  {
   "cell_type": "code",
   "execution_count": null,
   "metadata": {},
   "outputs": [],
   "source": []
  },
  {
   "cell_type": "markdown",
   "metadata": {},
   "source": [
    "### Escribir un programa que almacene las materias  de un curso (por ejemplo Matemáticas, Física, Química, Historia y Lengua) en una lista, luego pregunte por la nota en cada materia  y finalmente  muestre por pantalla la materia y su nota "
   ]
  },
  {
   "cell_type": "code",
   "execution_count": null,
   "metadata": {},
   "outputs": [],
   "source": []
  },
  {
   "cell_type": "markdown",
   "metadata": {},
   "source": [
    "###  Escribir un programa que almacene en una lista los números del 1 al 10 y los muestre por pantalla en orden inverso separados por comas."
   ]
  },
  {
   "cell_type": "code",
   "execution_count": null,
   "metadata": {},
   "outputs": [],
   "source": []
  },
  {
   "cell_type": "markdown",
   "metadata": {},
   "source": [
    "###  Escribir un programa que pida al usuario una palabra y muestre por pantalla si es un palíndromo."
   ]
  },
  {
   "cell_type": "code",
   "execution_count": null,
   "metadata": {},
   "outputs": [],
   "source": []
  },
  {
   "cell_type": "markdown",
   "metadata": {},
   "source": [
    "###  Escribir un programa que pida  una palabra y muestre por pantalla el número de veces que contiene cada vocal."
   ]
  },
  {
   "cell_type": "code",
   "execution_count": null,
   "metadata": {},
   "outputs": [],
   "source": []
  },
  {
   "cell_type": "markdown",
   "metadata": {},
   "source": [
    "## # Escribir un programa que almacene los vectores (2,3,5) y (-1,0,2) en dos tuplas y muestre por pantalla su producto escalar. Donde el mismo se optiene dada la siguiente formula\n",
    "\n",
    "### V * U = V1 * U2 + V2 * U2 + V3 * V4 + ....Vn * Un\n",
    "### donde V y U son los vectores y los números en la operación denotan el elementos dentro del vector\n",
    "\n",
    "### ver para detalles  https://www.superprof.es/apuntes/escolar/matematicas/analitica/vectores/producto-escalar.html"
   ]
  },
  {
   "cell_type": "code",
   "execution_count": null,
   "metadata": {},
   "outputs": [],
   "source": [
    " "
   ]
  },
  {
   "cell_type": "markdown",
   "metadata": {},
   "source": [
    "### Escribir un programa que almacene 2  matrices , una de  3x2 y otra de 2x3,  en una tupla y muestre por pantalla su producto.\n",
    "### Nota: Para representar matrices mediante tuplas usar tuplas anidadas, representando cada vector fila en una tupla.\n",
    "### Nota: \n",
    "### Dos matrices A y B son multiplicables si el número de columnas de A coincide con el número de filas de B.\n",
    "\n",
    "### Mm x n x Mn x p = M m x p\n",
    "\n",
    "### El elemento cij de la matriz producto se obtiene multiplicando cada elemento de la fila i de la matriz A por cada elemento de la columna j de la matriz B y sumándolos.\n",
    "\n",
    "### Ver:  https://www.superprof.es/diccionario/matematicas/algebralineal/multiplicacion-matrices.html"
   ]
  },
  {
   "cell_type": "code",
   "execution_count": null,
   "metadata": {},
   "outputs": [],
   "source": [
    "a = ((1, 2, 3),\n",
    "     (4, 5, 6))\n",
    "b = ((-1, 0),\n",
    "     (0, 1),\n",
    "     (1,1))\n",
    "result = [[0,0],\n",
    "          [0,0]]\n"
   ]
  },
  {
   "cell_type": "markdown",
   "metadata": {},
   "source": [
    "###  Escribir un programa que pregunte por una muestra de números, separados por comas, los guarde en una tupla y muestre por pantalla su media y varianza.\n",
    "### Tip : para la separación del texto incluido , utilize la función split, que separa y regresa una lista. \n",
    "### ver https://www.w3schools.com/python/ref_string_split.asp\n",
    "### https://www.disfrutalasmatematicas.com/datos/desviacion-estandar.html"
   ]
  },
  {
   "cell_type": "code",
   "execution_count": null,
   "metadata": {},
   "outputs": [],
   "source": []
  },
  {
   "cell_type": "markdown",
   "metadata": {},
   "source": [
    "#### -----------  Diccionarios"
   ]
  },
  {
   "cell_type": "markdown",
   "metadata": {},
   "source": [
    "### Escribir un programa que guarde en una variable el diccionario {'Euro':'€', 'Dollar':'Dol', 'Yen':'¥'}, pregunte al usuario por una divisa y muestre su símbolo o un mensaje de aviso si la divisa no está en el diccionario."
   ]
  },
  {
   "cell_type": "code",
   "execution_count": null,
   "metadata": {},
   "outputs": [],
   "source": []
  },
  {
   "cell_type": "markdown",
   "metadata": {},
   "source": [
    "###  Escribir un programa que pregunte al usuario su nombre, edad, dirección y teléfono y lo guarde en un diccionario. Despúes debe mostrar por pantalla el mensaje \"nombre\" tiene \"edad\" años, vive en \"dirección\" y su número de teléfono es \"teléfono\"."
   ]
  },
  {
   "cell_type": "code",
   "execution_count": null,
   "metadata": {},
   "outputs": [],
   "source": []
  },
  {
   "cell_type": "markdown",
   "metadata": {},
   "source": [
    "###  Escribir un programa que guarde en un diccionario los precios de  frutas de la tabla, pregunte al usuario por una fruta, un número de kilos y muestre por pantalla el precio de ese número de kilos de fruta. Si la fruta no está en el diccionario debe mostrar un mensaje informando de ello."
   ]
  },
  {
   "cell_type": "code",
   "execution_count": null,
   "metadata": {},
   "outputs": [],
   "source": []
  },
  {
   "cell_type": "markdown",
   "metadata": {},
   "source": [
    "###  Escribir un programa que cree un diccionario vacío y lo vaya llenado con información sobre una persona (por ejemplo nombre, edad, sexo, teléfono, correo electrónico, etc.) que se le pida al usuario. Al salir  debe imprimirse el contenido del diccionario."
   ]
  },
  {
   "cell_type": "code",
   "execution_count": null,
   "metadata": {},
   "outputs": [],
   "source": [
    "\n",
    "    "
   ]
  },
  {
   "cell_type": "markdown",
   "metadata": {},
   "source": [
    "### Escribir un programa que gestione las facturas pendientes de cobro de una empresa. Las facturas se almacenarán en un diccionario donde la clave de cada factura será el número de factura y el valor el coste de la factura. El programa debe preguntar al usuario si quiere añadir una nueva factura, pagar una existente o terminar. Si desea añadir una nueva factura se preguntará por el número de factura y su coste y se añadirá al diccionario. Si se desea pagar una factura se preguntará por el número de factura y se eliminará del diccionario. Después de cada operación el programa debe mostrar por pantalla la cantidad cobrada hasta el momento y la cantidad pendiente de cobro."
   ]
  },
  {
   "cell_type": "code",
   "execution_count": null,
   "metadata": {},
   "outputs": [],
   "source": [
    "\n"
   ]
  },
  {
   "cell_type": "code",
   "execution_count": null,
   "metadata": {},
   "outputs": [],
   "source": []
  }
 ],
 "metadata": {
  "kernelspec": {
   "display_name": "Python 3",
   "language": "python",
   "name": "python3"
  },
  "language_info": {
   "codemirror_mode": {
    "name": "ipython",
    "version": 3
   },
   "file_extension": ".py",
   "mimetype": "text/x-python",
   "name": "python",
   "nbconvert_exporter": "python",
   "pygments_lexer": "ipython3",
   "version": "3.7.6"
  }
 },
 "nbformat": 4,
 "nbformat_minor": 2
}
