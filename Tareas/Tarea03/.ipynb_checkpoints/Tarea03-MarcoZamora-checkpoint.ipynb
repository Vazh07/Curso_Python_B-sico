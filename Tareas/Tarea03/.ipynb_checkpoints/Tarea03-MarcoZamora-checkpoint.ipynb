{
 "cells": [
  {
   "cell_type": "markdown",
   "metadata": {},
   "source": [
    "# Ejercicios de Python "
   ]
  },
  {
   "cell_type": "markdown",
   "metadata": {},
   "source": [
    "# ----- Tipos de datos"
   ]
  },
  {
   "cell_type": "markdown",
   "metadata": {},
   "source": [
    "### Escribir un programa que muestre por pantalla la frase \"¡Hola amigos! soy\" , e incluya su nombre  "
   ]
  },
  {
   "cell_type": "code",
   "execution_count": 1,
   "metadata": {},
   "outputs": [
    {
     "name": "stdout",
     "output_type": "stream",
     "text": [
      "Digite su nombre:Marco\n",
      "¡Hola amigos! soy Marco\n"
     ]
    }
   ],
   "source": [
    "nombre=input('Digite su nombre:')\n",
    "print('¡Hola amigos! soy',nombre)"
   ]
  },
  {
   "cell_type": "markdown",
   "metadata": {},
   "source": [
    "### Escribir un programa que pregunte el nombre  en la consola y después que  lo introduzca muestre por pantalla la cadena ¡Hola [nombre]!, donde [nombre] es el nombre que el usuario ha  introducido."
   ]
  },
  {
   "cell_type": "code",
   "execution_count": 3,
   "metadata": {},
   "outputs": [
    {
     "name": "stdout",
     "output_type": "stream",
     "text": [
      "Digite su nombre:Marco\n",
      "¡Hola Marco!\n"
     ]
    }
   ],
   "source": [
    "nombre=input('Digite su nombre:')\n",
    "print('¡Hola '+nombre+'!')"
   ]
  },
  {
   "cell_type": "markdown",
   "metadata": {},
   "source": [
    "### Escribir un programa que pregunte el nombre en  consola y un número entero e imprima por pantalla en líneas distintas el nombre del usuario tantas veces como el número introducido."
   ]
  },
  {
   "cell_type": "code",
   "execution_count": 5,
   "metadata": {},
   "outputs": [
    {
     "name": "stdout",
     "output_type": "stream",
     "text": [
      "Digite su nombre:Marco \n",
      "Digite un numero:4\n",
      "Marco \n",
      "Marco \n",
      "Marco \n",
      "Marco \n"
     ]
    }
   ],
   "source": [
    "nombre=input('Digite su nombre:')\n",
    "numero=int(input('Digite un numero:'))\n",
    "for i in range(numero):\n",
    "    print(nombre)"
   ]
  },
  {
   "cell_type": "markdown",
   "metadata": {},
   "source": [
    "### Escribir un programa que pregunte el nombre de un animal  y después de que que se introduzca muestre por pantalla el nombre en mayúsculas y el número de caracteres que contiene en líneas distintas."
   ]
  },
  {
   "cell_type": "code",
   "execution_count": 3,
   "metadata": {},
   "outputs": [
    {
     "name": "stdout",
     "output_type": "stream",
     "text": [
      "Digite el nombre de un animal:Elefante\n",
      "ELEFANTE\n",
      "8\n"
     ]
    }
   ],
   "source": [
    "nombreAnimal=str(input('Digite el nombre de un animal:')).upper()\n",
    "print(nombreAnimal)\n",
    "print(len(nombreAnimal))"
   ]
  },
  {
   "cell_type": "markdown",
   "metadata": {},
   "source": [
    "### Escribe un programa que pregunte  por el número de horas trabajadas y el costo por hora. Después debe mostrar por pantalla la paga que le corresponde."
   ]
  },
  {
   "cell_type": "code",
   "execution_count": 4,
   "metadata": {},
   "outputs": [
    {
     "name": "stdout",
     "output_type": "stream",
     "text": [
      "Digite las horas laboradas:8\n",
      "Digite el costo por hora:1000\n",
      "La paga es: 8000.0\n"
     ]
    }
   ],
   "source": [
    "horas=float(input('Digite las horas laboradas:'))\n",
    "costo=float(input('Digite el costo por hora:'))\n",
    "print('La paga correspondiente es:',horas*costo)"
   ]
  },
  {
   "cell_type": "markdown",
   "metadata": {},
   "source": [
    "### Escribir un programa que pida al usuario dos números enteros y muestre por pantalla la {n} entre {m} da un cociente {c} y un resto {r} donde {n} y {m} son los números introducidos , y {c} y {r} son el cociente y el resto de la división entera respectivamente."
   ]
  },
  {
   "cell_type": "code",
   "execution_count": 6,
   "metadata": {},
   "outputs": [
    {
     "name": "stdout",
     "output_type": "stream",
     "text": [
      "Digite un entero:3\n",
      "Digite otro entero:5\n",
      "la division 3 entre 5 da un cociente 0.6 y un resto 3\n"
     ]
    }
   ],
   "source": [
    "n=int(input('Digite un entero:'))\n",
    "m=int(input('Digite otro entero:'))\n",
    "print('la division', n,'entre',m,'da un cociente',n/m,'y un resto',n%m)"
   ]
  },
  {
   "cell_type": "markdown",
   "metadata": {},
   "source": [
    "### Usted abrio una nueva cuenta de ahorros que le  ofrece el 4% de interés al año. Estos ahorros debido a intereses, que no se cobran hasta finales de año y  se le  añaden al balance final de tu cuenta de ahorros. Además asuma que usted no saca el dinero y lo continua invirtiendo. Escribir un programa que comience leyendo la cantidad de dinero depositada en la cuenta de ahorros. Después el programa debe calcular y mostrar por pantalla la cantidad de ahorros tras el primer, segundo y tercer años. Redondear cada cantidad a dos decimales."
   ]
  },
  {
   "cell_type": "code",
   "execution_count": 15,
   "metadata": {},
   "outputs": [
    {
     "name": "stdout",
     "output_type": "stream",
     "text": [
      "Digite la cantidad depositada:1000\n",
      "primer año: 1040.0\n",
      "segundo año: 1081.6\n",
      "tercer año: 1124.86\n"
     ]
    }
   ],
   "source": [
    "ahorros=0.00\n",
    "interesAnual=0.04\n",
    "ahorros=float(input('Digite la cantidad depositada:'))\n",
    "ahorrosAux=round(ahorros+(interesAnual*ahorros),2)\n",
    "print('primer año:',ahorrosAux)\n",
    "ahorrosAux+=round(interesAnual*ahorrosAux,2)\n",
    "print('segundo año:',ahorrosAux)\n",
    "ahorrosAux+=round(interesAnual*ahorrosAux,2)\n",
    "print('tercer año:',ahorrosAux)"
   ]
  },
  {
   "cell_type": "markdown",
   "metadata": {},
   "source": [
    "### Un abastecedor vende rosquillas a 500 col  la bolsas  . Las rosquillas  que no son  del  día tiene un descuento del 50%. Escribe un programa que comience leyendo el número de bolsas  vendidas que no son del día. Después tu programa debe mostrar el precio habitual de una bolsa del producto, y  el descuento que se le hace por no ser fresca y el coste final total."
   ]
  },
  {
   "cell_type": "code",
   "execution_count": 18,
   "metadata": {},
   "outputs": [
    {
     "name": "stdout",
     "output_type": "stream",
     "text": [
      "Digite la cantidad de bolsas vendidas con descuento:4\n",
      "el precio habitual de las bolsas es: 500\n",
      "el descuento realizado es de:  250.0\n",
      "el coste final es de: 1000.0\n"
     ]
    }
   ],
   "source": [
    "valorBolsa=500\n",
    "valorDescuento=valorBolsa/2\n",
    "bolsasDescuentoVendidas=int(input('Digite la cantidad de bolsas vendidas con descuento:'))\n",
    "print('el precio habitual de las bolsas es:',valorBolsa)\n",
    "print('el descuento realizado es de: ',valorBolsa-valorDescuento)\n",
    "print('el coste final es de:',valorDescuento*bolsasDescuentoVendidas)"
   ]
  },
  {
   "cell_type": "markdown",
   "metadata": {},
   "source": [
    "# ------ Condicionales"
   ]
  },
  {
   "cell_type": "markdown",
   "metadata": {},
   "source": [
    "### Escribir un programa que pregunte al usuario su edad y muestre por pantalla si es mayor de edad o no."
   ]
  },
  {
   "cell_type": "code",
   "execution_count": 15,
   "metadata": {},
   "outputs": [
    {
     "name": "stdout",
     "output_type": "stream",
     "text": [
      "Digite su edad:3\n",
      "Usted es menor de edad\n"
     ]
    }
   ],
   "source": [
    "edad=float(input('Digite su edad:'))\n",
    "print('Usted es mayor de edad') if edad>=18 else print('Usted es menor de edad')"
   ]
  },
  {
   "cell_type": "markdown",
   "metadata": {},
   "source": [
    "###  Escribir un programa que pregunte por una  contraseña , pregunte nuevamente por la confirmación de la contraseña e imprima por pantalla si la contraseña introducida es la misma en ambos momentos. La compración no debe tener en cuenta mayúsculas y minúsculas."
   ]
  },
  {
   "cell_type": "code",
   "execution_count": 1,
   "metadata": {},
   "outputs": [
    {
     "name": "stdout",
     "output_type": "stream",
     "text": [
      "Digite una contraseña:abc\n",
      "Digite de nuevo su contraseña:Abc\n",
      "Su clave coincide\n"
     ]
    }
   ],
   "source": [
    "clave=str(input('Digite una contraseña:'))\n",
    "confirmaClave=str(input('Digite de nuevo su contraseña:'))\n",
    "print('Su clave coincide') if clave.lower()==confirmaClave.lower() else print('Su clave no coincide')"
   ]
  },
  {
   "cell_type": "markdown",
   "metadata": {},
   "source": [
    "###  Los alumnos de un curso se han dividido en dos grupos A y B de acuerdo al sexo y el nombre. El grupo A esta formado por las mujeres con un nombre anterior a la M y los hombres con un nombre posterior a la N y el grupo B por el resto. Escribir un programa que pregunte al usuario su nombre y sexo, y muestre por pantalla el grupo que le corresponde."
   ]
  },
  {
   "cell_type": "code",
   "execution_count": 8,
   "metadata": {},
   "outputs": [
    {
     "name": "stdout",
     "output_type": "stream",
     "text": [
      "Digite su nombre:Natalia \n",
      "Digite su sexo:Mujer\n",
      "Natalia  pertenece al grupo B\n"
     ]
    }
   ],
   "source": [
    "nombre=input('Digite su nombre:')\n",
    "sexo=input('Digite su sexo:')\n",
    "primerLetra=ord(nombre[0].lower())\n",
    "if((primerLetra<ord('n') and sexo.lower()=='mujer')or(primerLetra>ord('n')and sexo.lower()=='hombre')):\n",
    "    print(nombre,'pertenece al grupo A')\n",
    "else:\n",
    "    print(nombre,'pertenece al grupo B')"
   ]
  },
  {
   "cell_type": "markdown",
   "metadata": {},
   "source": [
    "###  En una  empresa, los  empleados son evaluados al final de cada año y se les da un bono por su desempeño. Los puntos que pueden obtener en la evaluación comienzan en 0.0 y pueden ir aumentando, traduciéndose en mejores beneficios. Los puntos que pueden conseguir los empleados pueden ser 0.0 (Malo), 0.4 (Bueno). o 0.6(Excelente), pero no valores intermedios entre las cifras mencionadas. . La cantidad de dinero conseguida en cada nivel es de 1000 dólares  multiplicada por la puntuación del nivel.\n",
    "### Escribir un programa que lea la puntuación del usuario e indique su nivel de rendimiento, así como la cantidad de dinero que recibirá el usuario."
   ]
  },
  {
   "cell_type": "code",
   "execution_count": 29,
   "metadata": {},
   "outputs": [
    {
     "name": "stdout",
     "output_type": "stream",
     "text": [
      "Digite la puntuacion del empleado:0.2\n",
      "la puntuacion dada no es valida\n"
     ]
    }
   ],
   "source": [
    "puntuacion=float(input('Digite la puntuacion del empleado:'))\n",
    "if puntuacion==0.0 or puntuacion==0.4 or puntuacion==0.6:\n",
    "    print('el bono del empledo es de: $'+str(1000*puntuacion))\n",
    "else:\n",
    "    print('la puntuacion dada no es valida')"
   ]
  },
  {
   "cell_type": "markdown",
   "metadata": {},
   "source": [
    "# ------ Ciclos"
   ]
  },
  {
   "cell_type": "markdown",
   "metadata": {},
   "source": [
    "### Escribir un programa que pregunte la  edad y muestre por pantalla todos los años que ha cumplido (desde 1 hasta su edad)."
   ]
  },
  {
   "cell_type": "code",
   "execution_count": 15,
   "metadata": {},
   "outputs": [
    {
     "name": "stdout",
     "output_type": "stream",
     "text": [
      "Digite su edad:16\n",
      "1\n",
      "2\n",
      "3\n",
      "4\n",
      "5\n",
      "6\n",
      "7\n",
      "8\n",
      "9\n",
      "10\n",
      "11\n",
      "12\n",
      "13\n",
      "14\n",
      "15\n",
      "16\n"
     ]
    }
   ],
   "source": [
    "edad=int(input('Digite su edad:'))\n",
    "for num in range(edad):\n",
    "    print(num+1)"
   ]
  },
  {
   "cell_type": "markdown",
   "metadata": {},
   "source": [
    "###  Escribir un programa que pida  un número entero positivo y muestre por pantalla todos los números impares desde 1 hasta ese número separados por comas."
   ]
  },
  {
   "cell_type": "code",
   "execution_count": 1,
   "metadata": {},
   "outputs": [
    {
     "name": "stdout",
     "output_type": "stream",
     "text": [
      "Digite un entero positivo:99\n",
      "1,3,5,7,9,11,13,15,17,19,21,23,25,27,29,31,33,35,37,39,41,43,45,47,49,51,53,55,57,59,61,63,65,67,69,71,73,75,77,79,81,83,85,87,89,91,93,95,97,99."
     ]
    }
   ],
   "source": [
    "num=int(input('Digite un entero positivo:'))\n",
    "if num<0:\n",
    "    print('su numero no es positivo')\n",
    "elif num==0:\n",
    "    print('No han sido detectados impares')\n",
    "else:\n",
    "    for i in range(num+1):\n",
    "        if(i%2!=0):\n",
    "            simb=','\n",
    "            if i==num: simb='.'\n",
    "            print(i,end=simb)"
   ]
  },
  {
   "cell_type": "markdown",
   "metadata": {},
   "source": [
    "### Escribir un programa que pida  un número entero positivo y muestre por pantalla la cuenta atrás desde ese número hasta cero separados por comas."
   ]
  },
  {
   "cell_type": "code",
   "execution_count": 2,
   "metadata": {},
   "outputs": [
    {
     "name": "stdout",
     "output_type": "stream",
     "text": [
      "Digite un entero positivo:15\n",
      "15,14,13,12,11,10,9,8,7,6,5,4,3,2,1,0."
     ]
    }
   ],
   "source": [
    "num=int(input('Digite un entero positivo:'))\n",
    "if num<0:\n",
    "    print('su numero no es positivo')\n",
    "elif num==0:\n",
    "    print(0)\n",
    "else:\n",
    "    numAux=num\n",
    "    for i in range(num+1):\n",
    "        simb=','\n",
    "        if i==num: simb='.'\n",
    "        print(numAux,end=simb)\n",
    "        numAux=numAux-1"
   ]
  },
  {
   "cell_type": "markdown",
   "metadata": {},
   "source": [
    "###  Escribir un programa que muestre por pantalla la tabla de multiplicar del 1 al 10."
   ]
  },
  {
   "cell_type": "code",
   "execution_count": 34,
   "metadata": {},
   "outputs": [
    {
     "name": "stdout",
     "output_type": "stream",
     "text": [
      "1x0 es:0\n",
      "1x1 es:1\n",
      "1x2 es:2\n",
      "1x3 es:3\n",
      "1x4 es:4\n",
      "1x5 es:5\n",
      "1x6 es:6\n",
      "1x7 es:7\n",
      "1x8 es:8\n",
      "1x9 es:9\n",
      "1x10 es:10\n",
      "2x0 es:0\n",
      "2x1 es:2\n",
      "2x2 es:4\n",
      "2x3 es:6\n",
      "2x4 es:8\n",
      "2x5 es:10\n",
      "2x6 es:12\n",
      "2x7 es:14\n",
      "2x8 es:16\n",
      "2x9 es:18\n",
      "2x10 es:20\n",
      "3x0 es:0\n",
      "3x1 es:3\n",
      "3x2 es:6\n",
      "3x3 es:9\n",
      "3x4 es:12\n",
      "3x5 es:15\n",
      "3x6 es:18\n",
      "3x7 es:21\n",
      "3x8 es:24\n",
      "3x9 es:27\n",
      "3x10 es:30\n",
      "4x0 es:0\n",
      "4x1 es:4\n",
      "4x2 es:8\n",
      "4x3 es:12\n",
      "4x4 es:16\n",
      "4x5 es:20\n",
      "4x6 es:24\n",
      "4x7 es:28\n",
      "4x8 es:32\n",
      "4x9 es:36\n",
      "4x10 es:40\n",
      "5x0 es:0\n",
      "5x1 es:5\n",
      "5x2 es:10\n",
      "5x3 es:15\n",
      "5x4 es:20\n",
      "5x5 es:25\n",
      "5x6 es:30\n",
      "5x7 es:35\n",
      "5x8 es:40\n",
      "5x9 es:45\n",
      "5x10 es:50\n",
      "6x0 es:0\n",
      "6x1 es:6\n",
      "6x2 es:12\n",
      "6x3 es:18\n",
      "6x4 es:24\n",
      "6x5 es:30\n",
      "6x6 es:36\n",
      "6x7 es:42\n",
      "6x8 es:48\n",
      "6x9 es:54\n",
      "6x10 es:60\n",
      "7x0 es:0\n",
      "7x1 es:7\n",
      "7x2 es:14\n",
      "7x3 es:21\n",
      "7x4 es:28\n",
      "7x5 es:35\n",
      "7x6 es:42\n",
      "7x7 es:49\n",
      "7x8 es:56\n",
      "7x9 es:63\n",
      "7x10 es:70\n",
      "8x0 es:0\n",
      "8x1 es:8\n",
      "8x2 es:16\n",
      "8x3 es:24\n",
      "8x4 es:32\n",
      "8x5 es:40\n",
      "8x6 es:48\n",
      "8x7 es:56\n",
      "8x8 es:64\n",
      "8x9 es:72\n",
      "8x10 es:80\n",
      "9x0 es:0\n",
      "9x1 es:9\n",
      "9x2 es:18\n",
      "9x3 es:27\n",
      "9x4 es:36\n",
      "9x5 es:45\n",
      "9x6 es:54\n",
      "9x7 es:63\n",
      "9x8 es:72\n",
      "9x9 es:81\n",
      "9x10 es:90\n",
      "10x0 es:0\n",
      "10x1 es:10\n",
      "10x2 es:20\n",
      "10x3 es:30\n",
      "10x4 es:40\n",
      "10x5 es:50\n",
      "10x6 es:60\n",
      "10x7 es:70\n",
      "10x8 es:80\n",
      "10x9 es:90\n",
      "10x10 es:100\n"
     ]
    }
   ],
   "source": [
    "for i in range(10):\n",
    "    i+=1\n",
    "    for j in range(11):\n",
    "        print(str(i)+'x'+str(j)+' es:'+str(i*j))"
   ]
  },
  {
   "cell_type": "markdown",
   "metadata": {},
   "source": [
    "### Escribir un programa que pida un número entero y muestre por pantalla un triángulo rectángulo , de altura el número introducido. En donde la altura son números impares y el ancho son los números en orden inverso iniciando con el número impar . Por ejemplo así \n",
    "### 1 \n",
    "### 3 2 1 \n",
    "### 5 4 3 2 1 \n",
    "### 7 6 5 4 3 2 1 \n",
    "### 9 8 7 6 5 4 3 2 1 \n"
   ]
  },
  {
   "cell_type": "code",
   "execution_count": 76,
   "metadata": {},
   "outputs": [
    {
     "name": "stdout",
     "output_type": "stream",
     "text": [
      "Digite un numero entero:5\n",
      "1 \n",
      "\n",
      "3 2 1 \n",
      "\n",
      "5 4 3 2 1 \n",
      "\n",
      "7 6 5 4 3 2 1 \n",
      "\n",
      "9 8 7 6 5 4 3 2 1 \n",
      "\n"
     ]
    }
   ],
   "source": [
    "num=int(input('Digite un numero entero:'))\n",
    "altura=0\n",
    "i=1\n",
    "while altura<num:\n",
    "        if(i%2!=0):\n",
    "            altura+=1\n",
    "            numAux=i\n",
    "            for j in range(i):\n",
    "                print( numAux, end = \" \")\n",
    "                numAux=numAux-1\n",
    "            print(\"\\n\")\n",
    "        i+=1"
   ]
  },
  {
   "cell_type": "markdown",
   "metadata": {},
   "source": [
    "### Escribir un programa que almacene la cadena de caracteres contraseña en una variable,luego  pregunte por la contraseña hasta que introduzca la contraseña correcta."
   ]
  },
  {
   "cell_type": "code",
   "execution_count": 83,
   "metadata": {},
   "outputs": [
    {
     "name": "stdout",
     "output_type": "stream",
     "text": [
      "Digite una contraseña:hlo\n",
      "por favor digite su clave de nuevo:hlo\n",
      "Clave confirmada con exito!\n"
     ]
    }
   ],
   "source": [
    "clave=input('Digite una contraseña:')\n",
    "confirmaClave=''\n",
    "while clave!=confirmaClave:\n",
    "    confirmaClave=input('por favor digite su clave de nuevo:')\n",
    "else:\n",
    "    print('Clave confirmada con exito!')"
   ]
  },
  {
   "cell_type": "markdown",
   "metadata": {},
   "source": [
    "###  Escribir un programa en el que se pregunte  por una frase y una letra, y muestre por pantalla el número de veces que aparece la letra en la frase."
   ]
  },
  {
   "cell_type": "code",
   "execution_count": 85,
   "metadata": {},
   "outputs": [
    {
     "name": "stdout",
     "output_type": "stream",
     "text": [
      "Digite una frase:El tiempo también pinta\n",
      "Digite una letra:t\n",
      "La letra t aparece 3 veces en su frase\n"
     ]
    }
   ],
   "source": [
    "frase=input('Digite una frase:')\n",
    "letraClave=input('Digite una letra:')\n",
    "cuenta=0\n",
    "for letra in frase:\n",
    "    if letra==letraClave:\n",
    "        cuenta+=1\n",
    "print('La letra '+letraClave+' aparece',cuenta,'veces en su frase')"
   ]
  },
  {
   "cell_type": "markdown",
   "metadata": {},
   "source": [
    "###  Escribir un programa que pida  un número entero positivo mayor que 2 y muestre por pantalla si es un número primo o no."
   ]
  },
  {
   "cell_type": "code",
   "execution_count": 103,
   "metadata": {},
   "outputs": [
    {
     "name": "stdout",
     "output_type": "stream",
     "text": [
      "Digite un numero positivo mayor a dos:1200\n",
      "Su numero no es primo \n",
      " Debido a que: 600x2= 1200\n"
     ]
    }
   ],
   "source": [
    "num=int(input('Digite un numero positivo mayor a dos:'))\n",
    "isPrimo=False\n",
    "if num<2:\n",
    "    print('Su numero no sera procesado')\n",
    "else:\n",
    "    for i in range(int(num/2)):\n",
    "        if isPrimo:break\n",
    "        i+=2\n",
    "        if num%i==0:\n",
    "            print('Su numero no es primo \\n','Debido a que: '+str(num//i)+'x'+str(i)+'=',(num//i)*i)\n",
    "            isPrimo=True\n",
    "    if not isPrimo: print('Su numero es primo')"
   ]
  },
  {
   "cell_type": "markdown",
   "metadata": {},
   "source": [
    "###  La sucesión de Fibonacci, en ocasiones también conocida como secuencia de Fibonacci o incorrectamente como serie de Fibonacci, es en sí una sucesión matemática infinita. Consta de una serie de números naturales que se suman de a 2, a partir de 0 y 1. Básicamente, la sucesión de Fibonacci se realiza sumando siempre los últimos 2 números (Todos los números presentes en la sucesión se llaman números de Fibonacci)\n",
    "### Escriba un programa que pida un número entero positivo , con este genere una sucesión de Fibonacci de  ese número"
   ]
  },
  {
   "cell_type": "code",
   "execution_count": 126,
   "metadata": {},
   "outputs": [
    {
     "name": "stdout",
     "output_type": "stream",
     "text": [
      "Digite un numero entero positivo:7\n",
      "(1)\t1+0=1\n",
      "(2)\t1+1=2\n",
      "(3)\t2+1=3\n",
      "(4)\t3+2=5\n",
      "(5)\t5+3=8\n",
      "(6)\t8+5=13\n",
      "(7)\t13+8=21\n"
     ]
    }
   ],
   "source": [
    "num=int(input('Digite un numero entero positivo:'))\n",
    "if num<0:\n",
    "    print('El numero debe ser positivo')\n",
    "elif num==0:\n",
    "    print('(caso base)\\t1+0= 1')\n",
    "else:\n",
    "    anterior=0\n",
    "    suma=1\n",
    "    for i in range(num):\n",
    "        resultado=suma+anterior\n",
    "        print('('+str(i+1)+')'+'\\t'+str(suma)+'+'+str(anterior)+'='+str(resultado))\n",
    "        anterior=suma\n",
    "        suma=resultado"
   ]
  },
  {
   "cell_type": "markdown",
   "metadata": {},
   "source": [
    "# ------ Listas , Tuplas , Diccionarios"
   ]
  },
  {
   "cell_type": "markdown",
   "metadata": {},
   "source": [
    "### Escribir un programa que almacene las asignaturas de un curso (por ejemplo Matemáticas, Física, Química, Historia y Lengua) en una lista y la muestre por pantalla."
   ]
  },
  {
   "cell_type": "code",
   "execution_count": 53,
   "metadata": {},
   "outputs": [
    {
     "name": "stdout",
     "output_type": "stream",
     "text": [
      "['Matemáticas', 'Física', 'Química', 'Historia', 'Lengua']\n"
     ]
    }
   ],
   "source": [
    "listaCursos=['Matemáticas', 'Física', 'Química', 'Historia', 'Lengua']\n",
    "print(listaCursos)"
   ]
  },
  {
   "cell_type": "markdown",
   "metadata": {},
   "source": [
    "### Escribir un programa que almacene las materias  de un curso (por ejemplo Matemáticas, Física, Química, Historia y Lengua) en una lista, luego pregunte por la nota en cada materia  y finalmente  muestre por pantalla la materia y su nota "
   ]
  },
  {
   "cell_type": "code",
   "execution_count": 61,
   "metadata": {},
   "outputs": [
    {
     "name": "stdout",
     "output_type": "stream",
     "text": [
      "Digite la nota del curso de Matemáticas:1\n",
      "Digite la nota del curso de Física:2\n",
      "Digite la nota del curso de Química:3\n",
      "Digite la nota del curso de Historia:4\n",
      "Digite la nota del curso de Lengua:5\n",
      "Matemáticas : 1\n",
      "Física : 2\n",
      "Química : 3\n",
      "Historia : 4\n",
      "Lengua : 5\n"
     ]
    }
   ],
   "source": [
    "listaCursos=['Matemáticas', 'Física', 'Química', 'Historia', 'Lengua']\n",
    "listaNotas=list()\n",
    "for curso in listaCursos:\n",
    "    listaNotas.insert(len(listaNotas),input('Digite la nota del curso de '+curso+':'))\n",
    "for i in range(len(listaNotas)):\n",
    "    print(listaCursos[i],':',listaNotas[i])"
   ]
  },
  {
   "cell_type": "markdown",
   "metadata": {},
   "source": [
    "###  Escribir un programa que almacene en una lista los números del 1 al 10 y los muestre por pantalla en orden inverso separados por comas."
   ]
  },
  {
   "cell_type": "code",
   "execution_count": 3,
   "metadata": {},
   "outputs": [
    {
     "name": "stdout",
     "output_type": "stream",
     "text": [
      "10,9,8,7,6,5,4,3,2,1."
     ]
    }
   ],
   "source": [
    "nums=[1,2,3,4,5,6,7,8,9,10]\n",
    "numAux=-1\n",
    "for i in range(len(nums)):\n",
    "    simb=','\n",
    "    if i==len(nums)-1: simb='.'\n",
    "    print(nums[numAux],end=simb)\n",
    "    numAux-=1"
   ]
  },
  {
   "cell_type": "markdown",
   "metadata": {},
   "source": [
    "###  Escribir un programa que pida al usuario una palabra y muestre por pantalla si es un palíndromo."
   ]
  },
  {
   "cell_type": "code",
   "execution_count": 142,
   "metadata": {},
   "outputs": [
    {
     "name": "stdout",
     "output_type": "stream",
     "text": [
      "Digite una palabra:otototo\n",
      "Su palbra es un palindromo\n"
     ]
    }
   ],
   "source": [
    "#Palindromo = Palabra que se lee igual al derecho y al reves\n",
    "palabra = input('Digite una palabra:').lower()\n",
    "isPalindromo=False\n",
    "for i in range(len(palabra)-1):\n",
    "    i+=1\n",
    "    if(palabra[i-1]!=palabra[-i]):\n",
    "        isPalindromo=True\n",
    "        print('Su palbra no es un palindromo')\n",
    "        break\n",
    "if not isPalindromo: print('Su palbra es un palindromo')"
   ]
  },
  {
   "cell_type": "markdown",
   "metadata": {},
   "source": [
    "###  Escribir un programa que pida  una palabra y muestre por pantalla el número de veces que contiene cada vocal."
   ]
  },
  {
   "cell_type": "code",
   "execution_count": 148,
   "metadata": {},
   "outputs": [
    {
     "name": "stdout",
     "output_type": "stream",
     "text": [
      "Digite una palabra:bicicleta\n",
      "Su palabra contiene 4 vocales\n",
      " A: 1 \n",
      " E: 1 \n",
      " I: 2 \n",
      " O: 0 \n",
      " U: 0\n"
     ]
    }
   ],
   "source": [
    "vocales=['a','e','i','o','u']\n",
    "cantVocales=0\n",
    "cantA=0;cantE=0;cantI=0;cantO=0;cantU=0\n",
    "palabra = input('Digite una palabra:').lower()\n",
    "for letra in palabra:\n",
    "    if letra in vocales:\n",
    "        cantVocales+=1\n",
    "        if letra == vocales[0]: cantA+=1 \n",
    "        elif letra == vocales[1]: cantE+=1 \n",
    "        elif letra == vocales[2]: cantI+=1 \n",
    "        elif letra == vocales[3]: cantO+=1 \n",
    "        else: cantU+=1 \n",
    "print('Su palabra contiene',cantVocales,'vocales\\n','A:',cantA,'\\n','E:',cantE,'\\n','I:',cantI,'\\n','O:',cantO,'\\n','U:',cantU)"
   ]
  },
  {
   "cell_type": "markdown",
   "metadata": {},
   "source": [
    "## # Escribir un programa que almacene los vectores (2,3,5) y (-1,0,2) en dos tuplas y muestre por pantalla su producto escalar. Donde el mismo se optiene dada la siguiente formula\n",
    "\n",
    "### V * U = V1 * U2 + V2 * U2 + V3 * V4 + ....Vn * Un\n",
    "### donde V y U son los vectores y los números en la operación denotan el elementos dentro del vector\n",
    "\n",
    "### ver para detalles  https://www.superprof.es/apuntes/escolar/matematicas/analitica/vectores/producto-escalar.html"
   ]
  },
  {
   "cell_type": "code",
   "execution_count": null,
   "metadata": {},
   "outputs": [],
   "source": [
    " "
   ]
  },
  {
   "cell_type": "markdown",
   "metadata": {},
   "source": [
    "### Escribir un programa que almacene 2  matrices , una de  3x2 y otra de 2x3,  en una tupla y muestre por pantalla su producto.\n",
    "### Nota: Para representar matrices mediante tuplas usar tuplas anidadas, representando cada vector fila en una tupla.\n",
    "### Nota: \n",
    "### Dos matrices A y B son multiplicables si el número de columnas de A coincide con el número de filas de B.\n",
    "\n",
    "### Mm x n x Mn x p = M m x p\n",
    "\n",
    "### El elemento cij de la matriz producto se obtiene multiplicando cada elemento de la fila i de la matriz A por cada elemento de la columna j de la matriz B y sumándolos.\n",
    "\n",
    "### Ver:  https://www.superprof.es/diccionario/matematicas/algebralineal/multiplicacion-matrices.html"
   ]
  },
  {
   "cell_type": "code",
   "execution_count": null,
   "metadata": {},
   "outputs": [],
   "source": [
    "a = ((1, 2, 3),\n",
    "     (4, 5, 6))\n",
    "b = ((-1, 0),\n",
    "     (0, 1),\n",
    "     (1,1))\n",
    "result = [[0,0],\n",
    "          [0,0]]\n"
   ]
  },
  {
   "cell_type": "markdown",
   "metadata": {},
   "source": [
    "###  Escribir un programa que pregunte por una muestra de números, separados por comas, los guarde en una tupla y muestre por pantalla su media y varianza.\n",
    "### Tip : para la separación del texto incluido , utilize la función split, que separa y regresa una lista. \n",
    "### ver https://www.w3schools.com/python/ref_string_split.asp\n",
    "### https://www.disfrutalasmatematicas.com/datos/desviacion-estandar.html"
   ]
  },
  {
   "cell_type": "code",
   "execution_count": null,
   "metadata": {},
   "outputs": [],
   "source": []
  },
  {
   "cell_type": "markdown",
   "metadata": {},
   "source": [
    "#### -----------  Diccionarios"
   ]
  },
  {
   "cell_type": "markdown",
   "metadata": {},
   "source": [
    "### Escribir un programa que guarde en una variable el diccionario {'Euro':'€', 'Dollar':'Dol', 'Yen':'¥'}, pregunte al usuario por una divisa y muestre su símbolo o un mensaje de aviso si la divisa no está en el diccionario."
   ]
  },
  {
   "cell_type": "code",
   "execution_count": 67,
   "metadata": {},
   "outputs": [
    {
     "name": "stdout",
     "output_type": "stream",
     "text": [
      "Digite el nombre de una divisa:Colon \n",
      "La divisa indicada, no ha sido encontrada\n"
     ]
    }
   ],
   "source": [
    "currencies={'Euro':'€', 'Dollar':'Dol', 'Yen':'¥'}\n",
    "currency=input('Digite el nombre de una divisa:')\n",
    "if currency in currencies.keys():\n",
    "    print(currencies[currency])\n",
    "else:\n",
    "    print('La divisa indicada, no ha sido encontrada')"
   ]
  },
  {
   "cell_type": "markdown",
   "metadata": {},
   "source": [
    "###  Escribir un programa que pregunte al usuario su nombre, edad, dirección y teléfono y lo guarde en un diccionario. Despúes debe mostrar por pantalla el mensaje \"nombre\" tiene \"edad\" años, vive en \"dirección\" y su número de teléfono es \"teléfono\"."
   ]
  },
  {
   "cell_type": "code",
   "execution_count": null,
   "metadata": {},
   "outputs": [],
   "source": []
  },
  {
   "cell_type": "markdown",
   "metadata": {},
   "source": [
    "###  Escribir un programa que guarde en un diccionario los precios de  frutas de la tabla, pregunte al usuario por una fruta, un número de kilos y muestre por pantalla el precio de ese número de kilos de fruta. Si la fruta no está en el diccionario debe mostrar un mensaje informando de ello."
   ]
  },
  {
   "cell_type": "code",
   "execution_count": null,
   "metadata": {},
   "outputs": [],
   "source": []
  },
  {
   "cell_type": "markdown",
   "metadata": {},
   "source": [
    "###  Escribir un programa que cree un diccionario vacío y lo vaya llenado con información sobre una persona (por ejemplo nombre, edad, sexo, teléfono, correo electrónico, etc.) que se le pida al usuario. Al salir  debe imprimirse el contenido del diccionario."
   ]
  },
  {
   "cell_type": "code",
   "execution_count": null,
   "metadata": {},
   "outputs": [],
   "source": [
    "\n",
    "    "
   ]
  },
  {
   "cell_type": "markdown",
   "metadata": {},
   "source": [
    "### Escribir un programa que gestione las facturas pendientes de cobro de una empresa. Las facturas se almacenarán en un diccionario donde la clave de cada factura será el número de factura y el valor el coste de la factura. El programa debe preguntar al usuario si quiere añadir una nueva factura, pagar una existente o terminar. Si desea añadir una nueva factura se preguntará por el número de factura y su coste y se añadirá al diccionario. Si se desea pagar una factura se preguntará por el número de factura y se eliminará del diccionario. Después de cada operación el programa debe mostrar por pantalla la cantidad cobrada hasta el momento y la cantidad pendiente de cobro."
   ]
  },
  {
   "cell_type": "code",
   "execution_count": null,
   "metadata": {},
   "outputs": [],
   "source": [
    "\n"
   ]
  },
  {
   "cell_type": "code",
   "execution_count": null,
   "metadata": {},
   "outputs": [],
   "source": []
  }
 ],
 "metadata": {
  "kernelspec": {
   "display_name": "Python 3",
   "language": "python",
   "name": "python3"
  },
  "language_info": {
   "codemirror_mode": {
    "name": "ipython",
    "version": 3
   },
   "file_extension": ".py",
   "mimetype": "text/x-python",
   "name": "python",
   "nbconvert_exporter": "python",
   "pygments_lexer": "ipython3",
   "version": "3.7.6"
  }
 },
 "nbformat": 4,
 "nbformat_minor": 2
}
