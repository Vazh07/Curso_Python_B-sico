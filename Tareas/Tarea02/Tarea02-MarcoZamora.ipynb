{
 "cells": [
  {
   "cell_type": "markdown",
   "metadata": {},
   "source": [
    "# Tarea02"
   ]
  },
  {
   "cell_type": "markdown",
   "metadata": {},
   "source": [
    "<br>"
   ]
  },
  {
   "cell_type": "markdown",
   "metadata": {},
   "source": [
    "# Generator"
   ]
  },
  {
   "cell_type": "markdown",
   "metadata": {},
   "source": [
    "- Conteste: Qué  diferencia hay entre “list comprehensions” y “generator expressions”\n",
    "- Investigue funciones avanzadas y detalles sobre los “Generators” tanto de expresiones como de funciones asociadas a este \n",
    "- Incluya  casos, ejemplos y cualquier otro elemento útil. Para cada ejemplo adjunte una breve explicación sobre el mismo"
   ]
  },
  {
   "cell_type": "markdown",
   "metadata": {},
   "source": [
    "## Diferencia entre “list comprehensions” y “generator expressions”"
   ]
  },
  {
   "cell_type": "markdown",
   "metadata": {},
   "source": [
    "List comprehension recibe como entrada un rango y de salida brinda una lista <br>\n",
    "Ejemplo:"
   ]
  },
  {
   "cell_type": "code",
   "execution_count": 32,
   "metadata": {},
   "outputs": [
    {
     "name": "stdout",
     "output_type": "stream",
     "text": [
      "[0, 1, 4, 9, 16, 25, 36, 49, 64, 81, 100, 121, 144, 169, 196, 225, 256, 289, 324, 361]\n"
     ]
    }
   ],
   "source": [
    "l1 = [n**2 for n in range(20)]\n",
    "print(l1)"
   ]
  },
  {
   "cell_type": "markdown",
   "metadata": {},
   "source": [
    "Al igual que list comprehension, generator recibe como entrada un rango, pero su salida es un conjunto de elementos individuales que pueden ser iterados <br>\n",
    "Ejemplo:"
   ]
  },
  {
   "cell_type": "code",
   "execution_count": 49,
   "metadata": {},
   "outputs": [
    {
     "name": "stdout",
     "output_type": "stream",
     "text": [
      "<generator object <genexpr> at 0x000001E9EA2911C8>\n"
     ]
    }
   ],
   "source": [
    "g1 = (n**2 for n in range(20))\n",
    "print(g1)"
   ]
  },
  {
   "cell_type": "markdown",
   "metadata": {},
   "source": [
    "Cabe resaltar que tambien existe una diferencia semantica, debido a que generator requiere **parentesis** y list comprehension requiere **corchetes**"
   ]
  },
  {
   "cell_type": "markdown",
   "metadata": {},
   "source": [
    "## detalles sobre los “Generators”"
   ]
  },
  {
   "cell_type": "markdown",
   "metadata": {},
   "source": [
    "Como se pudo ver en el ejemplo 2, al intentar hacer el print del generator, lo que se obtiene es un objeto generator en una dirección de memoria, dicha dirección apunta al primer elemento de dicho generator <br>\n",
    "Ejemplo:"
   ]
  },
  {
   "cell_type": "code",
   "execution_count": 50,
   "metadata": {},
   "outputs": [
    {
     "name": "stdout",
     "output_type": "stream",
     "text": [
      "0\n",
      "1\n",
      "4\n",
      "9\n"
     ]
    }
   ],
   "source": [
    "print(next(g1))\n",
    "print(next(g1))\n",
    "print(next(g1))\n",
    "print(next(g1))\n",
    "#..."
   ]
  },
  {
   "cell_type": "markdown",
   "metadata": {},
   "source": [
    "Como se puede observar, el primer elemento nos refiere al segundo y así sucesivamente.<br> \n",
    "Otra forma de mostrar los valores, es recorrer el generator con un for <br>\n",
    "Ejemplo:"
   ]
  },
  {
   "cell_type": "code",
   "execution_count": 51,
   "metadata": {},
   "outputs": [
    {
     "name": "stdout",
     "output_type": "stream",
     "text": [
      "16 25 36 49 64 81 100 121 144 169 196 225 256 289 324 361 "
     ]
    }
   ],
   "source": [
    "for v in g1:\n",
    "    print(v,end=\" \")"
   ]
  },
  {
   "cell_type": "markdown",
   "metadata": {},
   "source": [
    "Los valores que han sido accedidos, no pueden ser recuperados y otra accion que se debe tener en cuenta es que con el comando **next** no se puede acceder más de la cantidad de referencias en el generator y tampoco se podra acceder cuando el generator es convertido en una lista <br>\n",
    "Ejemplo:"
   ]
  },
  {
   "cell_type": "code",
   "execution_count": 62,
   "metadata": {},
   "outputs": [
    {
     "name": "stdout",
     "output_type": "stream",
     "text": [
      "[]\n",
      "[2, 3, 4, 5, 6]\n"
     ]
    }
   ],
   "source": [
    "l2=list(g1)\n",
    "print(l2)\n",
    "g2=(n+2 for n in range(5))\n",
    "l3=list(g2)\n",
    "print(l3)"
   ]
  },
  {
   "cell_type": "markdown",
   "metadata": {},
   "source": [
    "Ejemplo de error:"
   ]
  },
  {
   "cell_type": "code",
   "execution_count": 63,
   "metadata": {},
   "outputs": [
    {
     "ename": "StopIteration",
     "evalue": "",
     "output_type": "error",
     "traceback": [
      "\u001b[1;31m---------------------------------------------------------------------------\u001b[0m",
      "\u001b[1;31mStopIteration\u001b[0m                             Traceback (most recent call last)",
      "\u001b[1;32m<ipython-input-63-9d1621906679>\u001b[0m in \u001b[0;36m<module>\u001b[1;34m\u001b[0m\n\u001b[1;32m----> 1\u001b[1;33m \u001b[0mprint\u001b[0m\u001b[1;33m(\u001b[0m\u001b[0mnext\u001b[0m\u001b[1;33m(\u001b[0m\u001b[0mg2\u001b[0m\u001b[1;33m)\u001b[0m\u001b[1;33m)\u001b[0m\u001b[1;33m\u001b[0m\u001b[1;33m\u001b[0m\u001b[0m\n\u001b[0m",
      "\u001b[1;31mStopIteration\u001b[0m: "
     ]
    }
   ],
   "source": [
    "print(next(g2))"
   ]
  },
  {
   "cell_type": "markdown",
   "metadata": {},
   "source": [
    "### Un metodo con generator (el comando yield)"
   ]
  },
  {
   "cell_type": "code",
   "execution_count": 67,
   "metadata": {},
   "outputs": [
    {
     "name": "stdout",
     "output_type": "stream",
     "text": [
      "1 4 9 16 25 36 "
     ]
    }
   ],
   "source": [
    "#fuente: https://www.youtube.com/watch?v=bD05uGo_sVI\n",
    "def cuadrados(nums):#definicion de una función \n",
    "    for i in nums:#iteramos sobre los numeros de entrada\n",
    "        yield(i**2)#brindamos el cuadrado de dicho numero\n",
    "        \n",
    "nums_cuadrados=cuadrados([1,2,3,4,5,6])#llamada al metodo y almacenamiento del resultado en una variable\n",
    "\n",
    "for num in nums_cuadrados:#se recorre el iterator para mostrar los elementos \n",
    "    print(num, end=\" \")\n",
    "#print(next(nums_cuadrados)) #Da error como se ha mencionado antes, debido a que los elementos ya han sido recorridos"
   ]
  },
  {
   "cell_type": "markdown",
   "metadata": {},
   "source": [
    "En el ejemplo anterior se pueden apreciar todos los elementos que se han presentado hasta el momento y además cuenta con la introducción del comando **yield** <br>\n",
    "Como se define en la siguiente charla <a>https://www.youtube.com/watch?v=U2t2t_cpvoc</a> el comando yield pone en pausa la función, a diferencia del return que la termina. Por lo tanto ya no se considera tanto como una función, es más adecuado considerarlo como **el constructor del objeto generator** <br>\n",
    "<ul><li>Un punto muy importante de utilizar generator es que produce un ahorro de memoria y tiempo de ejecución, esto debido a que los elementos se almacenan de manera individual y solo guardan una referencia al elemento siguiente, mientras que con una lista, cada uno de los elementos es alamcenado en un mismo espacio, lo cual al tener gran cantidad de elementos se convierte en un inconveniente de ineficiencia en la utilización de memoria.<br> Referencias:<br><a>https://towardsdatascience.com/reduce-memory-usage-and-make-your-python-code-faster-using-generators-bd79dbfeb4c</a><br><a>https://www.youtube.com/watch?v=bD05uGo_sVI</a></li></ul>"
   ]
  },
  {
   "cell_type": "markdown",
   "metadata": {},
   "source": [
    "<br>"
   ]
  },
  {
   "cell_type": "markdown",
   "metadata": {},
   "source": [
    "<br>"
   ]
  },
  {
   "cell_type": "markdown",
   "metadata": {},
   "source": [
    "# Context Manager"
   ]
  },
  {
   "cell_type": "markdown",
   "metadata": {},
   "source": [
    "- Investigue funciones avanzadas y detalles sobre “Context Manager”  tanto de expresiones como de funciones asociadas a este\n",
    "- Incluya  casos, ejemplos y cualquier otro elemento útil. Para cada ejemplo adjunte una breve explicación sobre el mismo"
   ]
  },
  {
   "cell_type": "markdown",
   "metadata": {},
   "source": [
    "Muchas veces en informática se habla del contexto. El contexto no es más que el espacio donde ciertas variables existen y donde multitud de acciones puede ser llevadas a cabo y errores pueden ocurrir. Para reducir el manejo tedioso de los recursos y errores en un contexto, se utiliza el context manager. <br>\n",
    "Ejemplo del uso de Context Manager:"
   ]
  },
  {
   "cell_type": "markdown",
   "metadata": {},
   "source": [
    "**Sin Context Manager**"
   ]
  },
  {
   "cell_type": "code",
   "execution_count": 70,
   "metadata": {},
   "outputs": [],
   "source": [
    "f=open('ejemploSin.txt','w')#se abre un archivo y se asigna a una variable\n",
    "try:#mientras el archivo eta abierto, se puede escribir en el \n",
    "    f.write('Esto es un ejemplo sin context manager')\n",
    "finally:#si algo malo pasa al abrir el archivo, se debe cerrar la conexion\n",
    "    f.close()\n",
    "#Fuente:https://www.youtube.com/watch?v=iba-I4CrmyA"
   ]
  },
  {
   "cell_type": "markdown",
   "metadata": {},
   "source": [
    "**Con Context Manager**"
   ]
  },
  {
   "cell_type": "code",
   "execution_count": 71,
   "metadata": {},
   "outputs": [],
   "source": [
    "with open('ejemploCon.txt','w') as f:#se abre el archivo, se asigna en una variable\n",
    "    f.write('Esto es un ejemplo con context manager')#mientras esta abierto, se puede escribir en el \n",
    "                                                        #y si algo malo pasa con el archivo, context manager se encarga"
   ]
  },
  {
   "cell_type": "markdown",
   "metadata": {},
   "source": [
    "<ul><li>Como se puede apreciar en el ejemplo que utiliza context manager, no hay necesidad de cerrar el archivo que se abrió, esto debido a como el nombre lo dice el context manager se encarga de controlar hasta donde dicho archivo es utilizado y luego es cerrado cuando se termina el contexto. Cabe resaltar que ambas versiones del código hacen el mismo trabajo, pero el context manager facilita escribir el código, además de agilizar su lectura y mantenimiento. Asegurando siempre el buen manejo de los recursos</li></ul>"
   ]
  },
  {
   "cell_type": "markdown",
   "metadata": {},
   "source": [
    "### Existen dos formas de escribir Context Managers"
   ]
  },
  {
   "cell_type": "markdown",
   "metadata": {},
   "source": [
    "<b>1.</b> Utilizando un decorador:"
   ]
  },
  {
   "cell_type": "code",
   "execution_count": 81,
   "metadata": {},
   "outputs": [],
   "source": [
    "#Fuente: https://www.youtube.com/watch?v=iba-I4CrmyA\n",
    "from contextlib import contextmanager#importacion de la libreria necesaria\n",
    "\n",
    "@contextmanager#invocacion del decorador\n",
    "def abrir_archivo(nombre):\n",
    "    try:#manejo de errores\n",
    "        f=open(nombre,'w')\n",
    "        yield f#Como se puede observar, se utiliza un generator\n",
    "    finally:\n",
    "        f.close()"
   ]
  },
  {
   "cell_type": "code",
   "execution_count": 76,
   "metadata": {},
   "outputs": [],
   "source": [
    "with abrir_archivo('ejemploCon.txt') as f:\n",
    "    f.write('Esto es una prueba de Context Manager con decorador')"
   ]
  },
  {
   "cell_type": "markdown",
   "metadata": {},
   "source": [
    "<b>2.</b> Utilizando una clase:"
   ]
  },
  {
   "cell_type": "code",
   "execution_count": 82,
   "metadata": {},
   "outputs": [],
   "source": [
    "#Fuente: https://www.youtube.com/watch?v=iba-I4CrmyA\n",
    "class archivo_manager:#declaracion de una clase\n",
    "    #declaracion de metodos de la clase\n",
    "    def __init__(self, nombre):#init se refiere a cuando se utiliza el with del context manager\n",
    "        self.nombre = nombre\n",
    "        \n",
    "    def __enter__(self):#enter es cuando se logra ejecutar el with con el init\n",
    "        self.file = open(self.nombre,'w')\n",
    "        return self.file\n",
    "    \n",
    "    def __exit__(self, exc_type, exc_val, exc_tb):#exit se puede ejecutar cuando se ha terminado el context o ha surgido un error\n",
    "        if self.file:\n",
    "            self.file.close()"
   ]
  },
  {
   "cell_type": "code",
   "execution_count": 80,
   "metadata": {},
   "outputs": [],
   "source": [
    "with archivo_manager('ejemploCon.txt') as f:\n",
    "    f.write('Esto es una prueba de Context Manager utilizando una clase')"
   ]
  },
  {
   "cell_type": "markdown",
   "metadata": {},
   "source": [
    " ### Observaciones del context manager:\n",
    "<ul>\n",
    "    <li>Se puede ver como la ejecucion del context manager no cambia en ninguno de los dos casos, aunque su creación es dieferente en cada uno de los casos.</li>\n",
    "    <li>Internamente el context manager siempre va a tener tres partes: init, enter, exit. Justo como se puede apreciar en la creación de la clase, exit sirve para el control de cualquier error que pueda surgir en la ejecución del contexto.</li>\n",
    "</ul>"
   ]
  }
 ],
 "metadata": {
  "kernelspec": {
   "display_name": "Python 3",
   "language": "python",
   "name": "python3"
  },
  "language_info": {
   "codemirror_mode": {
    "name": "ipython",
    "version": 3
   },
   "file_extension": ".py",
   "mimetype": "text/x-python",
   "name": "python",
   "nbconvert_exporter": "python",
   "pygments_lexer": "ipython3",
   "version": "3.7.6"
  }
 },
 "nbformat": 4,
 "nbformat_minor": 2
}
