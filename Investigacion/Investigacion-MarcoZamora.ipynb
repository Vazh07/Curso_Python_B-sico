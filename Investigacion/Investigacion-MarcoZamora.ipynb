{
 "cells": [
  {
   "cell_type": "markdown",
   "metadata": {},
   "source": [
    "# Investigación:"
   ]
  },
  {
   "cell_type": "markdown",
   "metadata": {},
   "source": [
    "## Contenido de la investigación"
   ]
  },
  {
   "cell_type": "markdown",
   "metadata": {},
   "source": [
    "<ul>\n",
    "<li>Introducción a Excepciones</li>\n",
    "<li>Como se manejan Excepciones</li>\n",
    "<li>Tipos de Excepciones</li>\n",
    "<li>Claúsula finally</li>\n",
    "<li>Aserciones (Asserts)</li>\n",
    "<li>Custom errors o User defined Exceptions</li>\n",
    "<li>Ejemplos</li>\n",
    "</ul>"
   ]
  },
  {
   "cell_type": "markdown",
   "metadata": {},
   "source": [
    "<ul><li><h3><b>Introducción a Excepciones</b></h3></li></ul>"
   ]
  },
  {
   "cell_type": "markdown",
   "metadata": {},
   "source": [
    "Definicion de excepción:<br><br>\n",
    "\"Una excepción es la indicación de que se produjo un error en el programa. Las excepciones, como su nombre lo indica, se producen cuando la ejecución de un método no termina correctamente, sino que termina de manera excepcional como consecuencia de una situación no esperada\" <br>\n",
    "fuente(<a>https://universidad-de-los-andes.gitbooks.io/fundamentos-de-programacion/content/Nivel4/5_ManejoDeLasExcepciones.html</a>) <br><br>\n",
    "Como se menciona, las excepciones son una forma que nos proveen los lenguajes de programación para el manejo de errores o comportamientos inesperados dentro de un programa.<br> Los errores se pueden dividir en tres grandes areas: <br>\n",
    "<ul>\n",
    "<li>Errores de sintaxis: Se producen cuando algo se ha escrito de manera erronea. El interprete de python siempre nos va a indicar donde puede estar el fallo y nos lo va a notificar con la palabra <i>SyntaxError</i>.</li>\n",
    "<li>Errores semánticos: Se produce cuando el programa no produce mensajes de error, pero tampoco cumple con el comportamiento esperado.</li>\n",
    "<li>Errores de ejecución: Son los más dificiles de controlar, se producen por gran diversidad de razones y son dificiles de  replicar, en esencia son producidos por motivos que exceden al programador y es por esto que se deben implementar medidas preventivas como lo son las excepciones.</li>\n",
    "</ul>\n",
    "<br>\n",
    "Referencia(<a>https://uniwebsidad.com/libros/algoritmos-python/capitulo-12</a>)"
   ]
  },
  {
   "cell_type": "markdown",
   "metadata": {},
   "source": [
    "Ejemplo de un error común:<br>\n",
    "    El siguiente error se produce no por una razon de programación, sino por un motivo matemático. Una division entre cero, siempre va a dar como resultado <i>Indefinido</i> al no tener solución en el mundo real, python nos dará un error. "
   ]
  },
  {
   "cell_type": "code",
   "execution_count": 2,
   "metadata": {},
   "outputs": [
    {
     "ename": "ZeroDivisionError",
     "evalue": "division by zero",
     "output_type": "error",
     "traceback": [
      "\u001b[1;31m---------------------------------------------------------------------------\u001b[0m",
      "\u001b[1;31mZeroDivisionError\u001b[0m                         Traceback (most recent call last)",
      "\u001b[1;32m<ipython-input-2-8002ccd217de>\u001b[0m in \u001b[0;36m<module>\u001b[1;34m\u001b[0m\n\u001b[0;32m      2\u001b[0m \u001b[0mdividendo\u001b[0m \u001b[1;33m=\u001b[0m \u001b[1;36m5\u001b[0m\u001b[1;33m\u001b[0m\u001b[1;33m\u001b[0m\u001b[0m\n\u001b[0;32m      3\u001b[0m \u001b[0mdivisor\u001b[0m \u001b[1;33m=\u001b[0m \u001b[1;36m0\u001b[0m\u001b[1;33m\u001b[0m\u001b[1;33m\u001b[0m\u001b[0m\n\u001b[1;32m----> 4\u001b[1;33m \u001b[0mdividendo\u001b[0m \u001b[1;33m/\u001b[0m \u001b[0mdivisor\u001b[0m\u001b[1;33m\u001b[0m\u001b[1;33m\u001b[0m\u001b[0m\n\u001b[0m",
      "\u001b[1;31mZeroDivisionError\u001b[0m: division by zero"
     ]
    }
   ],
   "source": [
    "#Fuente https://uniwebsidad.com/libros/algoritmos-python/capitulo-12/excepciones\n",
    "dividendo = 5\n",
    "divisor = 0\n",
    "dividendo / divisor"
   ]
  },
  {
   "cell_type": "markdown",
   "metadata": {},
   "source": [
    "Generalmente, en un programa del mundo real no queremos que los usuarios vean el error que nos da el interprete y dependiendo de la complejidad del programa, un error sin controlar puede tener consecuencias catastroficas. Como el choque y caida del sistema."
   ]
  },
  {
   "cell_type": "markdown",
   "metadata": {},
   "source": [
    "<ul><li><h3><b>Como se manejan Excepciones</b></h3></li></ul>"
   ]
  },
  {
   "cell_type": "markdown",
   "metadata": {},
   "source": [
    "En python, el lenguaje nos probee un conjunto de palabras reservadas para el manejo de excepciones. Las dos palabras más imnportantes son <b><i>try</i></b> y <b><i>except</i></b> <br>\n",
    "Ejemplo:"
   ]
  },
  {
   "cell_type": "code",
   "execution_count": 9,
   "metadata": {},
   "outputs": [
    {
     "name": "stdout",
     "output_type": "stream",
     "text": [
      "No se permite la división por cero!\n"
     ]
    }
   ],
   "source": [
    "#Fuente https://uniwebsidad.com/libros/algoritmos-python/capitulo-12/excepciones\n",
    "dividendo = 5\n",
    "divisor = 0\n",
    "try:\n",
    "     cociente = dividendo / divisor \n",
    "except:\n",
    "    print(\"No se permite la división por cero!\")"
   ]
  },
  {
   "cell_type": "markdown",
   "metadata": {},
   "source": [
    "Como se puede apreciar, con el uso de la palabra <b><i>try</i></b> python va a intentar ejecutar las instrucciones dentro de dicho bloque, cuando detecta el error, entonces se ejecuta la  <b><i>except</i></b> lo cual modifica el comportamiento inesperado a uno ya esperado, evitando así la visualizacion de errores internos del interprete y que el programa de como salida un error inesperado."
   ]
  },
  {
   "cell_type": "markdown",
   "metadata": {},
   "source": [
    "<ul><li><h3><b>Tipos de Excepciones</b></h3></li></ul>"
   ]
  },
  {
   "cell_type": "markdown",
   "metadata": {},
   "source": [
    "En variedad de ocasiones, como programadores vamos a tener conocimiento de donde se pueden producir cierto tipo de error, como es el ejemplo de la division por cero. El lenguaje python tiene toda una jerarquia de excepciones que pueden ser utilizadas en errores conocidos.<br>\n",
    "Ejemplo:"
   ]
  },
  {
   "cell_type": "code",
   "execution_count": 12,
   "metadata": {},
   "outputs": [],
   "source": [
    "def division(dividendo,divisor):\n",
    "    try:\n",
    "        return dividendo / divisor \n",
    "    except ZeroDivisionError:\n",
    "        return \"No se permite la division por cero!\"\n",
    "    except:\n",
    "        return \"Un error inesperado ha sucedido, su operacion no ha podido ser procesada\""
   ]
  },
  {
   "cell_type": "code",
   "execution_count": 13,
   "metadata": {},
   "outputs": [
    {
     "name": "stdout",
     "output_type": "stream",
     "text": [
      "No se permite la division por cero!\n"
     ]
    }
   ],
   "source": [
    "print(division(5,0))"
   ]
  },
  {
   "cell_type": "code",
   "execution_count": 14,
   "metadata": {},
   "outputs": [
    {
     "name": "stdout",
     "output_type": "stream",
     "text": [
      "Un error inesperado ha sucedido, su operacion no ha podido ser procesada\n"
     ]
    }
   ],
   "source": [
    "print(division('a',2))"
   ]
  },
  {
   "cell_type": "markdown",
   "metadata": {},
   "source": [
    "Ejemplo Buil-in Exception:"
   ]
  },
  {
   "cell_type": "code",
   "execution_count": 19,
   "metadata": {},
   "outputs": [],
   "source": [
    "#fuente:https://docs.python.org/3/tutorial/errors.html\n",
    "def introNum():\n",
    "    try:\n",
    "        x = int(input(\"Digite un numero entero: \"))\n",
    "    except ValueError:\n",
    "        print(\"No se ha introducido un nómero valido!\")"
   ]
  },
  {
   "cell_type": "code",
   "execution_count": 20,
   "metadata": {},
   "outputs": [
    {
     "name": "stdout",
     "output_type": "stream",
     "text": [
      "Digite un numero entero: 2\n"
     ]
    }
   ],
   "source": [
    "introNum()"
   ]
  },
  {
   "cell_type": "code",
   "execution_count": 21,
   "metadata": {},
   "outputs": [
    {
     "name": "stdout",
     "output_type": "stream",
     "text": [
      "Digite un numero entero: 7.5\n",
      "No se ha introducido un nómero valido!\n"
     ]
    }
   ],
   "source": [
    "introNum()"
   ]
  },
  {
   "cell_type": "code",
   "execution_count": 22,
   "metadata": {
    "scrolled": true
   },
   "outputs": [
    {
     "name": "stdout",
     "output_type": "stream",
     "text": [
      "Digite un numero entero: a\n",
      "No se ha introducido un nómero valido!\n"
     ]
    }
   ],
   "source": [
    "introNum()"
   ]
  },
  {
   "cell_type": "markdown",
   "metadata": {},
   "source": [
    "A ese tipo de excepciones que python reconoce de manera automática se les llama <b><i>Build-in Exceptions</i></b><br>\n",
    "referencias:<br>\n",
    "<a>https://docs.python.org/2/library/exceptions.html</a><br>\n",
    "<a>https://docs.python.org/3/library/exceptions.html</a><br>\n",
    "<i>Ver anexo 1</i>"
   ]
  },
  {
   "cell_type": "markdown",
   "metadata": {},
   "source": [
    "<ul><li><h3><b>Claúsula finally</b></h3></li></ul>"
   ]
  },
  {
   "cell_type": "markdown",
   "metadata": {},
   "source": [
    "Otra palabra reservada que tiene gran utilidad en el manejo de excepciones es la palabra <b><i>finally</i></b>, el efecto que tiene dicha palabra es que si una excepción es lanzada, se permita correr el código restante antes de realizar un return de la función.<br>\n",
    "Ejemplo:"
   ]
  },
  {
   "cell_type": "code",
   "execution_count": 23,
   "metadata": {},
   "outputs": [],
   "source": [
    "def division(dividendo,divisor):\n",
    "    try:\n",
    "        return dividendo / divisor \n",
    "    except ZeroDivisionError:\n",
    "        return \"No se permite la division por cero!\"\n",
    "    except:\n",
    "        return \"Un error inesperado ha sucedido, su operacion no ha podido ser procesada\"\n",
    "    finally:\n",
    "        print(\"Si su divisor fuese 10, su resultado sería:\",dividendo/10)"
   ]
  },
  {
   "cell_type": "code",
   "execution_count": 24,
   "metadata": {},
   "outputs": [
    {
     "name": "stdout",
     "output_type": "stream",
     "text": [
      "Si su divisor fuese 10, su resultado sería: 0.5\n"
     ]
    },
    {
     "data": {
      "text/plain": [
       "'No se permite la division por cero!'"
      ]
     },
     "execution_count": 24,
     "metadata": {},
     "output_type": "execute_result"
    }
   ],
   "source": [
    "division(5,0)"
   ]
  },
  {
   "cell_type": "markdown",
   "metadata": {},
   "source": [
    "Como se puede apreciar en el ejemplo, antes de que se muestre el mensaje del except, se ha ejecutado primero el código que se encontraba en el bloque finally"
   ]
  },
  {
   "cell_type": "markdown",
   "metadata": {},
   "source": [
    "<ul><li><h3><b>Aserciones (Asserts)</b></h3></li></ul>"
   ]
  },
  {
   "cell_type": "markdown",
   "metadata": {},
   "source": [
    "Las aserciones funcionan para validar si el código se está ejecutando como se desea, si la validación de la asercion, da como resultado falso, entonces python va a lanzar un <b><i>AssertionError</i></b><br>\n",
    "Referencia:<a>https://www.w3schools.com/python/ref_keyword_assert.asp</a><br>\n",
    "Ejemplo:"
   ]
  },
  {
   "cell_type": "code",
   "execution_count": 45,
   "metadata": {},
   "outputs": [],
   "source": [
    "def sumaPar(numA,numB):\n",
    "    resultado = numA+numB\n",
    "    assert resultado%2==0\n",
    "    return resultado"
   ]
  },
  {
   "cell_type": "code",
   "execution_count": 52,
   "metadata": {},
   "outputs": [
    {
     "name": "stdout",
     "output_type": "stream",
     "text": [
      "4\n",
      "La suma ha sido exitosa\n",
      "Fin del programa\n"
     ]
    }
   ],
   "source": [
    "try:\n",
    "    print(sumaPar(2,2))\n",
    "except AssertionError:\n",
    "    print('El resultado de su suma no es par!')\n",
    "else:\n",
    "    print('La suma ha sido exitosa')\n",
    "finally:\n",
    "    print('Fin del programa')"
   ]
  },
  {
   "cell_type": "code",
   "execution_count": 47,
   "metadata": {},
   "outputs": [
    {
     "name": "stdout",
     "output_type": "stream",
     "text": [
      "El resultado de su suma no es par!\n"
     ]
    }
   ],
   "source": [
    "try:\n",
    "    print(sumaPares(2,3))\n",
    "except AssertionError:\n",
    "    print('El resultado de su suma no es par!')"
   ]
  },
  {
   "cell_type": "code",
   "execution_count": 51,
   "metadata": {},
   "outputs": [
    {
     "name": "stdout",
     "output_type": "stream",
     "text": [
      "El resultado de su suma no es par!\n",
      "Clausula final!\n"
     ]
    }
   ],
   "source": [
    "try:\n",
    "    print(sumaPares(4,3))\n",
    "except AssertionError:\n",
    "    print('El resultado de su suma no es par!')\n",
    "finally:\n",
    "    print('Clausula final!')"
   ]
  },
  {
   "cell_type": "markdown",
   "metadata": {},
   "source": [
    "Como se puede ver en los ejemplos, el assert nos ha ayudado a validar si el código va a cumplir con el comportamiento esperado, si no es así python va a lanzar el <i><b>build-in exception</b></i> llamado <i><b>AssertionError</i></b>, que podrá ser controlado como cualquier otra excepción, como se ha visto en las secciones anteriores."
   ]
  },
  {
   "cell_type": "markdown",
   "metadata": {},
   "source": [
    "<ul><li><h3><b>Custom errors o User defined Exceptions</b></h3></li></ul>"
   ]
  },
  {
   "cell_type": "markdown",
   "metadata": {},
   "source": [
    "Dependiendo de la complejidad de los programas que sean desarrollados, muchas veces los Build-in Exceptions no van a cumplir en totalidad el comportamiento deseado o complicaran la lectura y manetnimiento del código, es por estos motivos que se usan los llamados <b><i>Custom errors</i></b>."
   ]
  },
  {
   "cell_type": "markdown",
   "metadata": {},
   "source": [
    "#### Comando raise"
   ]
  },
  {
   "cell_type": "markdown",
   "metadata": {},
   "source": [
    "Raise significa levantar, en programación es el equivalente a lanzar, se utiliza para <i>lanzar</i> excepciones <br>\n",
    "Ejemplo:"
   ]
  },
  {
   "cell_type": "code",
   "execution_count": 62,
   "metadata": {},
   "outputs": [
    {
     "name": "stdout",
     "output_type": "stream",
     "text": [
      "Nombre muy corto\n"
     ]
    }
   ],
   "source": [
    "#Fuente:https://www.youtube.com/watch?v=hLLaw9BI-EE\n",
    "def validar(nombre):\n",
    "    if len(nombre)<10:\n",
    "        raise ValueError('Nombre muy corto')\n",
    "    else: print(nombre)\n",
    "\n",
    "try:\n",
    "    validar('Juan')\n",
    "except ValueError as e:\n",
    "    print(e)"
   ]
  },
  {
   "cell_type": "markdown",
   "metadata": {},
   "source": [
    "#### Custom error"
   ]
  },
  {
   "cell_type": "markdown",
   "metadata": {},
   "source": [
    "Ejemplo:"
   ]
  },
  {
   "cell_type": "code",
   "execution_count": 71,
   "metadata": {},
   "outputs": [
    {
     "name": "stdout",
     "output_type": "stream",
     "text": [
      "Nombre muy corto\n"
     ]
    }
   ],
   "source": [
    "#Fuente:https://www.youtube.com/watch?v=hLLaw9BI-EE\n",
    "class nombreMuyCorto(ValueError):\n",
    "    pass\n",
    "\n",
    "def validar(nombre):\n",
    "    if len(nombre)<10:\n",
    "        raise nombreMuyCorto('Nombre muy corto')\n",
    "    else: print(nombre)\n",
    "\n",
    "try:\n",
    "    validar('Juan')\n",
    "except ValueError as e:\n",
    "    print(e)"
   ]
  },
  {
   "cell_type": "markdown",
   "metadata": {},
   "source": [
    "Ejemplo:"
   ]
  },
  {
   "cell_type": "code",
   "execution_count": 75,
   "metadata": {},
   "outputs": [
    {
     "name": "stdout",
     "output_type": "stream",
     "text": [
      "El nivel no es valido:-1\n"
     ]
    }
   ],
   "source": [
    "#Fuente:https://www.youtube.com/watch?v=2tWDA7SclXk\n",
    "class nivelInvalido(Exception):\n",
    "    def __init__(self,mensaje):\n",
    "        self.mensaje=mensaje\n",
    "nivel=-1\n",
    "\n",
    "try:\n",
    "    if nivel<0:\n",
    "        raise nivelInvalido(f'El nivel no es valido:{nivel}')\n",
    "except Exception as e:\n",
    "    print(e.mensaje)"
   ]
  },
  {
   "cell_type": "markdown",
   "metadata": {},
   "source": [
    "<ul><li><h3><b>Ejemplos extra</b></h3></li></ul>"
   ]
  },
  {
   "cell_type": "code",
   "execution_count": 55,
   "metadata": {},
   "outputs": [
    {
     "name": "stdout",
     "output_type": "stream",
     "text": [
      "[Errno 2] No such file or directory: 'ejemplo.txt'\n",
      "Clausula final!\n"
     ]
    }
   ],
   "source": [
    "#Fuente:https://www.youtube.com/watch?v=NIWwJbo-9_8\n",
    "try:\n",
    "   f = open('ejemplo.txt')\n",
    "except FileNotFoundError as e:\n",
    "    print(e)\n",
    "except Exception as e:\n",
    "    print(e)\n",
    "else:\n",
    "    f.close()\n",
    "finally:\n",
    "     print('Clausula final!')"
   ]
  },
  {
   "cell_type": "markdown",
   "metadata": {},
   "source": [
    "# Anexos:"
   ]
  },
  {
   "cell_type": "markdown",
   "metadata": {},
   "source": [
    "## anexo 1:"
   ]
  },
  {
   "cell_type": "markdown",
   "metadata": {},
   "source": [
    "<b>Jerarquía Build-in Exceptions:</b><br>\n",
    "<ul wfd-id=\"247\">\n",
    "<li wfd-id=\"248\">BaseException\n",
    "<ul wfd-id=\"249\">\n",
    "<li wfd-id=\"253\">Exception\n",
    "<ul wfd-id=\"254\">\n",
    "<li wfd-id=\"321\">ArithmeticError\n",
    "<ul wfd-id=\"322\">\n",
    "<li wfd-id=\"325\">FloatingPointError</li>\n",
    "<li wfd-id=\"324\">OverflowError</li>\n",
    "<li wfd-id=\"323\">ZeroDivisionError</li>\n",
    "</ul>\n",
    "</li>\n",
    "<li wfd-id=\"320\">AssertionError</li>\n",
    "<li wfd-id=\"319\">AttributeError</li>\n",
    "<li wfd-id=\"318\">BufferError</li>\n",
    "<li wfd-id=\"317\">EOFError</li>\n",
    "<li wfd-id=\"314\">ImportError\n",
    "<ul wfd-id=\"315\">\n",
    "<li wfd-id=\"316\">ModuleNotFoundError</li>\n",
    "</ul>\n",
    "</li>\n",
    "<li wfd-id=\"310\">LookupError\n",
    "<ul wfd-id=\"311\">\n",
    "<li wfd-id=\"313\">IndexError</li>\n",
    "<li wfd-id=\"312\">KeyError</li>\n",
    "</ul>\n",
    "</li>\n",
    "<li wfd-id=\"309\">MemoryError</li>\n",
    "<li wfd-id=\"306\">NameError\n",
    "<ul wfd-id=\"307\">\n",
    "<li wfd-id=\"308\">UnboundLocalError</li>\n",
    "</ul>\n",
    "</li>\n",
    "<li wfd-id=\"288\">OSError\n",
    "<ul wfd-id=\"289\">\n",
    "<li wfd-id=\"305\">BlockingIOError</li>\n",
    "<li wfd-id=\"304\">ChildProcessError</li>\n",
    "<li wfd-id=\"298\">ConnectionError\n",
    "<ul wfd-id=\"299\">\n",
    "<li wfd-id=\"303\">BrokenPipeError</li>\n",
    "<li wfd-id=\"302\">ConnectionAbortedError</li>\n",
    "<li wfd-id=\"301\">ConnectionRefusedError</li>\n",
    "<li wfd-id=\"300\">ConnectionResetError</li>\n",
    "</ul>\n",
    "</li>\n",
    "<li wfd-id=\"297\">FileExistsError</li>\n",
    "<li wfd-id=\"296\">FileNotFoundError</li>\n",
    "<li wfd-id=\"295\">InterruptedError</li>\n",
    "<li wfd-id=\"294\">IsADirectoryError</li>\n",
    "<li wfd-id=\"293\">NotADirectoryError</li>\n",
    "<li wfd-id=\"292\">PermissionError</li>\n",
    "<li wfd-id=\"291\">ProcessLookupError</li>\n",
    "<li wfd-id=\"290\">TimeoutError</li>\n",
    "</ul>\n",
    "</li>\n",
    "<li wfd-id=\"287\">ReferenceError</li>\n",
    "<li wfd-id=\"283\">RuntimeError\n",
    "<ul wfd-id=\"284\">\n",
    "<li wfd-id=\"286\">NotImplementedError</li>\n",
    "<li wfd-id=\"285\">RecursionError</li>\n",
    "</ul>\n",
    "</li>\n",
    "<li wfd-id=\"282\">StopIteration</li>\n",
    "<li wfd-id=\"281\">StopAsyncIteration            </li>\n",
    "<li wfd-id=\"276\">SyntaxError\n",
    "<ul wfd-id=\"277\">\n",
    "<li wfd-id=\"278\">IndentationError\n",
    "<ul wfd-id=\"279\">\n",
    "<li wfd-id=\"280\">TabError</li>\n",
    "</ul>\n",
    "</li>\n",
    "</ul>\n",
    "</li>\n",
    "<li wfd-id=\"275\">SystemError</li>\n",
    "<li wfd-id=\"274\">TypeError</li>\n",
    "<li wfd-id=\"267\">ValueError\n",
    "<ul wfd-id=\"268\">\n",
    "<li wfd-id=\"269\">UnicodeError\n",
    "<ul wfd-id=\"270\">\n",
    "<li wfd-id=\"273\">UnicodeDecodeError</li>\n",
    "<li wfd-id=\"272\">UnicodeEncodeError</li>\n",
    "<li wfd-id=\"271\">UnicodeTranslateError</li>\n",
    "</ul>\n",
    "</li>\n",
    "</ul>\n",
    "</li>\n",
    "<li wfd-id=\"255\">Warning\n",
    "<ul wfd-id=\"256\">\n",
    "<li wfd-id=\"266\">BytesWarning</li>\n",
    "<li wfd-id=\"265\">DeprecationWarning</li>\n",
    "<li wfd-id=\"264\">FutureWarning</li>\n",
    "<li wfd-id=\"263\">ImportWarning</li>\n",
    "<li wfd-id=\"262\">PendingDeprecationWarning</li>\n",
    "<li wfd-id=\"261\">ResourceWarning</li>\n",
    "<li wfd-id=\"260\">RuntimeWarning</li>\n",
    "<li wfd-id=\"259\">SyntaxWarning</li>\n",
    "<li wfd-id=\"258\">UnicodeWarning</li>\n",
    "<li wfd-id=\"257\">UserWarning            </li>\n",
    "</ul>\n",
    "</li>\n",
    "</ul>\n",
    "</li>\n",
    "<li wfd-id=\"252\">GeneratorExit</li>\n",
    "<li wfd-id=\"251\">KeyboardInterrupt</li>\n",
    "<li wfd-id=\"250\">SystemExit</li>\n",
    "</ul>\n",
    "</li>\n",
    "</ul>"
   ]
  }
 ],
 "metadata": {
  "kernelspec": {
   "display_name": "Python 3",
   "language": "python",
   "name": "python3"
  },
  "language_info": {
   "codemirror_mode": {
    "name": "ipython",
    "version": 3
   },
   "file_extension": ".py",
   "mimetype": "text/x-python",
   "name": "python",
   "nbconvert_exporter": "python",
   "pygments_lexer": "ipython3",
   "version": "3.7.6"
  }
 },
 "nbformat": 4,
 "nbformat_minor": 2
}
